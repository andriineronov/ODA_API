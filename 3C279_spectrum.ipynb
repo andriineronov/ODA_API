{
 "cells": [
  {
   "cell_type": "code",
   "execution_count": 1,
   "metadata": {},
   "outputs": [
    {
     "name": "stderr",
     "output_type": "stream",
     "text": [
      "/anaconda3/envs/threeML/lib/python2.7/site-packages/astromodels/functions/function.py:120: YAMLLoadWarning: calling yaml.load() without Loader=... is deprecated, as the default Loader is unsafe. Please read https://msg.pyyaml.org/load for full details.\n",
      "  function_definition = my_yaml.load(dct['__doc__'])\n",
      "\n",
      "WARNING UserWarning: The user configuration file at /Users/andriineronov/.threeML/threeML_config.yml does not appear to be valid. We will substitute it with the default configuration. You will find a copy of the old configuration at /Users/andriineronov/.threeML/threeML_config.yml.bak so you can transfer any customization you might have from there to the new configuration file. We will use the default configuration for this session.\n",
      "\n"
     ]
    },
    {
     "ename": "IOError",
     "evalue": "[Errno 13] Permission denied: '/Users/andriineronov/.threeML/threeML_config.yml.bak'",
     "output_type": "error",
     "traceback": [
      "\u001b[0;31m---------------------------------------------------------------------------\u001b[0m",
      "\u001b[0;31mIOError\u001b[0m                                   Traceback (most recent call last)",
      "\u001b[0;32m<ipython-input-1-1ceefd7a412e>\u001b[0m in \u001b[0;36m<module>\u001b[0;34m()\u001b[0m\n\u001b[1;32m      8\u001b[0m \u001b[0;32mimport\u001b[0m \u001b[0mmatplotlib\u001b[0m\u001b[0;34m.\u001b[0m\u001b[0mpyplot\u001b[0m \u001b[0;32mas\u001b[0m \u001b[0mplt\u001b[0m\u001b[0;34m\u001b[0m\u001b[0m\n\u001b[1;32m      9\u001b[0m \u001b[0mget_ipython\u001b[0m\u001b[0;34m(\u001b[0m\u001b[0;34m)\u001b[0m\u001b[0;34m.\u001b[0m\u001b[0mmagic\u001b[0m\u001b[0;34m(\u001b[0m\u001b[0;34mu'matplotlib inline'\u001b[0m\u001b[0;34m)\u001b[0m\u001b[0;34m\u001b[0m\u001b[0m\n\u001b[0;32m---> 10\u001b[0;31m \u001b[0;32mfrom\u001b[0m \u001b[0mthreeML\u001b[0m \u001b[0;32mimport\u001b[0m \u001b[0;34m*\u001b[0m\u001b[0;34m\u001b[0m\u001b[0m\n\u001b[0m",
      "\u001b[0;32m/anaconda3/envs/threeML/lib/python2.7/site-packages/threeML/__init__.py\u001b[0m in \u001b[0;36m<module>\u001b[0;34m()\u001b[0m\n\u001b[1;32m     16\u001b[0m \u001b[0;34m\u001b[0m\u001b[0m\n\u001b[1;32m     17\u001b[0m \u001b[0;31m# Finally import the serialization machinery\u001b[0m\u001b[0;34m\u001b[0m\u001b[0;34m\u001b[0m\u001b[0m\n\u001b[0;32m---> 18\u001b[0;31m \u001b[0;32mfrom\u001b[0m \u001b[0;34m.\u001b[0m\u001b[0mio\u001b[0m\u001b[0;34m.\u001b[0m\u001b[0mserialization\u001b[0m \u001b[0;32mimport\u001b[0m \u001b[0;34m*\u001b[0m\u001b[0;34m\u001b[0m\u001b[0m\n\u001b[0m\u001b[1;32m     19\u001b[0m \u001b[0;34m\u001b[0m\u001b[0m\n\u001b[1;32m     20\u001b[0m \u001b[0;32mfrom\u001b[0m \u001b[0;34m.\u001b[0m\u001b[0mexceptions\u001b[0m\u001b[0;34m.\u001b[0m\u001b[0mcustom_exceptions\u001b[0m \u001b[0;32mimport\u001b[0m \u001b[0mcustom_warnings\u001b[0m\u001b[0;34m\u001b[0m\u001b[0m\n",
      "\u001b[0;32m/anaconda3/envs/threeML/lib/python2.7/site-packages/threeML/io/serialization.py\u001b[0m in \u001b[0;36m<module>\u001b[0;34m()\u001b[0m\n\u001b[0;32m----> 1\u001b[0;31m \u001b[0;32mfrom\u001b[0m \u001b[0mthreeML\u001b[0m\u001b[0;34m.\u001b[0m\u001b[0mclassicMLE\u001b[0m\u001b[0;34m.\u001b[0m\u001b[0mjoint_likelihood\u001b[0m \u001b[0;32mimport\u001b[0m \u001b[0mJointLikelihood\u001b[0m\u001b[0;34m\u001b[0m\u001b[0m\n\u001b[0m\u001b[1;32m      2\u001b[0m \u001b[0;32mfrom\u001b[0m \u001b[0mthreeML\u001b[0m\u001b[0;34m.\u001b[0m\u001b[0mbayesian\u001b[0m\u001b[0;34m.\u001b[0m\u001b[0mbayesian_analysis\u001b[0m \u001b[0;32mimport\u001b[0m \u001b[0mBayesianAnalysis\u001b[0m\u001b[0;34m\u001b[0m\u001b[0m\n\u001b[1;32m      3\u001b[0m \u001b[0;34m\u001b[0m\u001b[0m\n\u001b[1;32m      4\u001b[0m \u001b[0m__all__\u001b[0m \u001b[0;34m=\u001b[0m \u001b[0;34m[\u001b[0m\u001b[0;34m]\u001b[0m\u001b[0;34m\u001b[0m\u001b[0m\n\u001b[1;32m      5\u001b[0m \u001b[0;34m\u001b[0m\u001b[0m\n",
      "\u001b[0;32m/anaconda3/envs/threeML/lib/python2.7/site-packages/threeML/classicMLE/joint_likelihood.py\u001b[0m in \u001b[0;36m<module>\u001b[0;34m()\u001b[0m\n\u001b[1;32m      9\u001b[0m \u001b[0;32mfrom\u001b[0m \u001b[0mastromodels\u001b[0m \u001b[0;32mimport\u001b[0m \u001b[0mModelAssertionViolation\u001b[0m\u001b[0;34m\u001b[0m\u001b[0m\n\u001b[1;32m     10\u001b[0m \u001b[0;32mfrom\u001b[0m \u001b[0mastromodels\u001b[0m \u001b[0;32mimport\u001b[0m \u001b[0mclone_model\u001b[0m\u001b[0;34m\u001b[0m\u001b[0m\n\u001b[0;32m---> 11\u001b[0;31m \u001b[0;32mfrom\u001b[0m \u001b[0mthreeML\u001b[0m\u001b[0;34m.\u001b[0m\u001b[0manalysis_results\u001b[0m \u001b[0;32mimport\u001b[0m \u001b[0mMLEResults\u001b[0m\u001b[0;34m\u001b[0m\u001b[0m\n\u001b[0m\u001b[1;32m     12\u001b[0m \u001b[0;32mfrom\u001b[0m \u001b[0mthreeML\u001b[0m\u001b[0;34m.\u001b[0m\u001b[0mconfig\u001b[0m\u001b[0;34m.\u001b[0m\u001b[0mconfig\u001b[0m \u001b[0;32mimport\u001b[0m \u001b[0mthreeML_config\u001b[0m\u001b[0;34m\u001b[0m\u001b[0m\n\u001b[1;32m     13\u001b[0m \u001b[0;32mfrom\u001b[0m \u001b[0mthreeML\u001b[0m\u001b[0;34m.\u001b[0m\u001b[0mexceptions\u001b[0m \u001b[0;32mimport\u001b[0m \u001b[0mcustom_exceptions\u001b[0m\u001b[0;34m\u001b[0m\u001b[0m\n",
      "\u001b[0;32m/anaconda3/envs/threeML/lib/python2.7/site-packages/threeML/analysis_results.py\u001b[0m in \u001b[0;36m<module>\u001b[0;34m()\u001b[0m\n\u001b[1;32m     38\u001b[0m \u001b[0;32mfrom\u001b[0m \u001b[0mthreeML\u001b[0m\u001b[0;34m.\u001b[0m\u001b[0mrandom_variates\u001b[0m \u001b[0;32mimport\u001b[0m \u001b[0mRandomVariates\u001b[0m\u001b[0;34m\u001b[0m\u001b[0m\n\u001b[1;32m     39\u001b[0m \u001b[0;32mfrom\u001b[0m \u001b[0mthreeML\u001b[0m\u001b[0;34m.\u001b[0m\u001b[0mio\u001b[0m\u001b[0;34m.\u001b[0m\u001b[0mcalculate_flux\u001b[0m \u001b[0;32mimport\u001b[0m \u001b[0m_calculate_point_source_flux\u001b[0m\u001b[0;34m\u001b[0m\u001b[0m\n\u001b[0;32m---> 40\u001b[0;31m \u001b[0;32mfrom\u001b[0m \u001b[0mthreeML\u001b[0m\u001b[0;34m.\u001b[0m\u001b[0mconfig\u001b[0m\u001b[0;34m.\u001b[0m\u001b[0mconfig\u001b[0m \u001b[0;32mimport\u001b[0m \u001b[0mthreeML_config\u001b[0m\u001b[0;34m\u001b[0m\u001b[0m\n\u001b[0m\u001b[1;32m     41\u001b[0m \u001b[0;34m\u001b[0m\u001b[0m\n\u001b[1;32m     42\u001b[0m \u001b[0;31m# These are special characters which cannot be safely saved in the keyword of a FITS file. We substitute\u001b[0m\u001b[0;34m\u001b[0m\u001b[0;34m\u001b[0m\u001b[0m\n",
      "\u001b[0;32m/anaconda3/envs/threeML/lib/python2.7/site-packages/threeML/config/config.py\u001b[0m in \u001b[0;36m<module>\u001b[0;34m()\u001b[0m\n\u001b[1;32m    362\u001b[0m \u001b[0;34m\u001b[0m\u001b[0m\n\u001b[1;32m    363\u001b[0m \u001b[0;31m# Now read the config file, so it will be available as Config.c\u001b[0m\u001b[0;34m\u001b[0m\u001b[0;34m\u001b[0m\u001b[0m\n\u001b[0;32m--> 364\u001b[0;31m \u001b[0mthreeML_config\u001b[0m \u001b[0;34m=\u001b[0m \u001b[0mConfig\u001b[0m\u001b[0;34m(\u001b[0m\u001b[0;34m)\u001b[0m\u001b[0;34m\u001b[0m\u001b[0m\n\u001b[0m",
      "\u001b[0;32m/anaconda3/envs/threeML/lib/python2.7/site-packages/threeML/config/config.py\u001b[0m in \u001b[0;36m__init__\u001b[0;34m(self)\u001b[0m\n\u001b[1;32m     84\u001b[0m \u001b[0;34m\u001b[0m\u001b[0m\n\u001b[1;32m     85\u001b[0m                     \u001b[0;31m# Move the config file to a backup file\u001b[0m\u001b[0;34m\u001b[0m\u001b[0;34m\u001b[0m\u001b[0m\n\u001b[0;32m---> 86\u001b[0;31m                     \u001b[0mshutil\u001b[0m\u001b[0;34m.\u001b[0m\u001b[0mcopy2\u001b[0m\u001b[0;34m(\u001b[0m\u001b[0muser_config_path\u001b[0m\u001b[0;34m,\u001b[0m \u001b[0;34m\"%s.bak\"\u001b[0m \u001b[0;34m%\u001b[0m \u001b[0muser_config_path\u001b[0m\u001b[0;34m)\u001b[0m\u001b[0;34m\u001b[0m\u001b[0m\n\u001b[0m\u001b[1;32m     87\u001b[0m \u001b[0;34m\u001b[0m\u001b[0m\n\u001b[1;32m     88\u001b[0m                     \u001b[0;31m# Remove old file\u001b[0m\u001b[0;34m\u001b[0m\u001b[0;34m\u001b[0m\u001b[0m\n",
      "\u001b[0;32m/anaconda3/envs/threeML/lib/python2.7/shutil.pyc\u001b[0m in \u001b[0;36mcopy2\u001b[0;34m(src, dst)\u001b[0m\n\u001b[1;32m    142\u001b[0m     \u001b[0;32mif\u001b[0m \u001b[0mos\u001b[0m\u001b[0;34m.\u001b[0m\u001b[0mpath\u001b[0m\u001b[0;34m.\u001b[0m\u001b[0misdir\u001b[0m\u001b[0;34m(\u001b[0m\u001b[0mdst\u001b[0m\u001b[0;34m)\u001b[0m\u001b[0;34m:\u001b[0m\u001b[0;34m\u001b[0m\u001b[0m\n\u001b[1;32m    143\u001b[0m         \u001b[0mdst\u001b[0m \u001b[0;34m=\u001b[0m \u001b[0mos\u001b[0m\u001b[0;34m.\u001b[0m\u001b[0mpath\u001b[0m\u001b[0;34m.\u001b[0m\u001b[0mjoin\u001b[0m\u001b[0;34m(\u001b[0m\u001b[0mdst\u001b[0m\u001b[0;34m,\u001b[0m \u001b[0mos\u001b[0m\u001b[0;34m.\u001b[0m\u001b[0mpath\u001b[0m\u001b[0;34m.\u001b[0m\u001b[0mbasename\u001b[0m\u001b[0;34m(\u001b[0m\u001b[0msrc\u001b[0m\u001b[0;34m)\u001b[0m\u001b[0;34m)\u001b[0m\u001b[0;34m\u001b[0m\u001b[0m\n\u001b[0;32m--> 144\u001b[0;31m     \u001b[0mcopyfile\u001b[0m\u001b[0;34m(\u001b[0m\u001b[0msrc\u001b[0m\u001b[0;34m,\u001b[0m \u001b[0mdst\u001b[0m\u001b[0;34m)\u001b[0m\u001b[0;34m\u001b[0m\u001b[0m\n\u001b[0m\u001b[1;32m    145\u001b[0m     \u001b[0mcopystat\u001b[0m\u001b[0;34m(\u001b[0m\u001b[0msrc\u001b[0m\u001b[0;34m,\u001b[0m \u001b[0mdst\u001b[0m\u001b[0;34m)\u001b[0m\u001b[0;34m\u001b[0m\u001b[0m\n\u001b[1;32m    146\u001b[0m \u001b[0;34m\u001b[0m\u001b[0m\n",
      "\u001b[0;32m/anaconda3/envs/threeML/lib/python2.7/shutil.pyc\u001b[0m in \u001b[0;36mcopyfile\u001b[0;34m(src, dst)\u001b[0m\n\u001b[1;32m     95\u001b[0m \u001b[0;34m\u001b[0m\u001b[0m\n\u001b[1;32m     96\u001b[0m     \u001b[0;32mwith\u001b[0m \u001b[0mopen\u001b[0m\u001b[0;34m(\u001b[0m\u001b[0msrc\u001b[0m\u001b[0;34m,\u001b[0m \u001b[0;34m'rb'\u001b[0m\u001b[0;34m)\u001b[0m \u001b[0;32mas\u001b[0m \u001b[0mfsrc\u001b[0m\u001b[0;34m:\u001b[0m\u001b[0;34m\u001b[0m\u001b[0m\n\u001b[0;32m---> 97\u001b[0;31m         \u001b[0;32mwith\u001b[0m \u001b[0mopen\u001b[0m\u001b[0;34m(\u001b[0m\u001b[0mdst\u001b[0m\u001b[0;34m,\u001b[0m \u001b[0;34m'wb'\u001b[0m\u001b[0;34m)\u001b[0m \u001b[0;32mas\u001b[0m \u001b[0mfdst\u001b[0m\u001b[0;34m:\u001b[0m\u001b[0;34m\u001b[0m\u001b[0m\n\u001b[0m\u001b[1;32m     98\u001b[0m             \u001b[0mcopyfileobj\u001b[0m\u001b[0;34m(\u001b[0m\u001b[0mfsrc\u001b[0m\u001b[0;34m,\u001b[0m \u001b[0mfdst\u001b[0m\u001b[0;34m)\u001b[0m\u001b[0;34m\u001b[0m\u001b[0m\n\u001b[1;32m     99\u001b[0m \u001b[0;34m\u001b[0m\u001b[0m\n",
      "\u001b[0;31mIOError\u001b[0m: [Errno 13] Permission denied: '/Users/andriineronov/.threeML/threeML_config.yml.bak'"
     ]
    }
   ],
   "source": [
    "from oda_api.api import DispatcherAPI\n",
    "from oda_api.plot_tools import OdaImage,OdaLightCurve\n",
    "from oda_api.data_products import BinaryData\n",
    "import os\n",
    "from astropy.io import fits\n",
    "import numpy as np\n",
    "from numpy import sqrt\n",
    "import matplotlib.pyplot as plt\n",
    "%matplotlib inline\n",
    "from threeML import *"
   ]
  },
  {
   "cell_type": "code",
   "execution_count": 50,
   "metadata": {
    "tags": [
     "parameters"
    ]
   },
   "outputs": [
    {
     "name": "stdout",
     "output_type": "stream",
     "text": [
      "YW5kcmlpLm5lcm9ub3ZAZ21haWwuY29t|1559821047|LCec3OViy77j6s-aij3DRgjoz0g=\n"
     ]
    }
   ],
   "source": [
    "source_name='3C 279'# source name \n",
    "ra=194.046527 # RA of the source\n",
    "dec=-5.789314 # DEC of the source\n",
    "scw_list='scws_3C279_isgri_10deg.txt' # choice among available scw lists\n",
    "host='analyse-staging-1.2.reproducible.online/dispatch-data' #choice between 'https://www.astro.unige.ch/cdci/astrooda/dispatch-data' and 'analyse-staging-1.2.reproducible.online/dispatch-data' \n",
    "if host=='analyse-staging-1.2.reproducible.online/dispatch-data':\n",
    "    try:\n",
    "        token=raw_input() # token for restricted access server\n",
    "    except:\n",
    "        token=input() # token for restricted access server\n",
    "else:\n",
    "    token=''\n",
    "rebin=5 # minimal significance in energy bin, for spectral plotting"
   ]
  },
  {
   "cell_type": "code",
   "execution_count": 41,
   "metadata": {},
   "outputs": [],
   "source": [
    "name=source_name.replace(\" \", \"\")"
   ]
  },
  {
   "cell_type": "code",
   "execution_count": 42,
   "metadata": {},
   "outputs": [],
   "source": [
    "#disp=DispatcherAPI(host='https://www.astro.unige.ch/cdci/astrooda/dispatch-data',instrument='mock',protocol='https')\n",
    "cookies=dict(_oauth2_proxy=token)\n",
    "disp=DispatcherAPI(host=host,instrument='mock',cookies=cookies,protocol='https')"
   ]
  },
  {
   "cell_type": "code",
   "execution_count": 43,
   "metadata": {},
   "outputs": [
    {
     "name": "stdout",
     "output_type": "stream",
     "text": [
      "25\n"
     ]
    }
   ],
   "source": [
    "f = open(scw_list, 'r')\n",
    "scws=[]\n",
    "for line in f:\n",
    "    line = line.strip()\n",
    "    columns = line.split()\n",
    "    scws.append(columns[0])\n",
    "f.close()\n",
    "m=int(len(scws)/50.)\n",
    "print(m)\n",
    "scw_lists=[]\n",
    "for i in range(m):\n",
    "    count=0\n",
    "    j=0    \n",
    "    scw_string=''\n",
    "    while(count<50):\n",
    "        scw_string=scw_string+str(scws[50*i+count])+','\n",
    "        count=count+1\n",
    "    scw_lists.append(scw_string[:-1])"
   ]
  },
  {
   "cell_type": "code",
   "execution_count": 44,
   "metadata": {},
   "outputs": [
    {
     "name": "stdout",
     "output_type": "stream",
     "text": [
      "waiting for remote response, please wait run_analysis https://analyse-staging-1.2.reproducible.online/dispatch-data\n",
      "\n",
      "\n",
      "query done succesfully!\n"
     ]
    }
   ],
   "source": [
    "data=disp.get_product(instrument='isgri',\n",
    "                      product='isgri_image',\n",
    "                      scw_list=scw_lists[0],\n",
    "                      E1_keV=20.0,\n",
    "                      E2_keV=40.0,\n",
    "                      osa_version='OSA10.2',\n",
    "                      RA=ra,\n",
    "                      DEC=dec,\n",
    "                      detection_threshold=3.5,\n",
    "                      product_type='Real')"
   ]
  },
  {
   "cell_type": "code",
   "execution_count": 45,
   "metadata": {
    "scrolled": true
   },
   "outputs": [
    {
     "data": {
      "text/html": [
       "<i>Table length=10</i>\n",
       "<table id=\"table4845841824\" class=\"table-striped table-bordered table-condensed\">\n",
       "<thead><tr><th>meta_ID</th><th>src_names</th><th>significance</th><th>ra</th><th>dec</th><th>NEW_SOURCE</th><th>ISGRI_FLAG</th><th>FLAG</th><th>ERR_RAD</th></tr></thead>\n",
       "<thead><tr><th></th><th></th><th></th><th>deg</th><th>deg</th><th></th><th></th><th></th><th></th></tr></thead>\n",
       "<thead><tr><th>int64</th><th>str15</th><th>float64</th><th>float64</th><th>float64</th><th>int64</th><th>int64</th><th>int64</th><th>object</th></tr></thead>\n",
       "<tr><td>2</td><td>3C 273</td><td>18.170305252075195</td><td>187.2891845703125</td><td>2.057224750518799</td><td>-32768</td><td>2</td><td>0</td><td>0.0002800000074785203</td></tr>\n",
       "<tr><td>3</td><td>3C 279</td><td>3.879420757293701</td><td>194.04653930664062</td><td>-5.789306163787842</td><td>-32768</td><td>2</td><td>0</td><td>0.0002800000074785203</td></tr>\n",
       "<tr><td>56</td><td>NGC 4388</td><td>5.55741548538208</td><td>186.44554138183594</td><td>12.662028312683105</td><td>-32768</td><td>2</td><td>0</td><td>0.0002800000074785203</td></tr>\n",
       "<tr><td>57</td><td>NGC 4593</td><td>14.242892265319824</td><td>189.9182586669922</td><td>-5.369694709777832</td><td>-32768</td><td>2</td><td>0</td><td>0.0002800000074785203</td></tr>\n",
       "<tr><td>60</td><td>NGC 4941</td><td>3.6251442432403564</td><td>196.05450439453125</td><td>-5.5515828132629395</td><td>-32768</td><td>2</td><td>0</td><td>0.0002800000074785203</td></tr>\n",
       "<tr><td>64</td><td>NGC 5506</td><td>4.1867218017578125</td><td>213.31195068359375</td><td>-3.2074999809265137</td><td>-32768</td><td>2</td><td>0</td><td>0.0002800000074785203</td></tr>\n",
       "<tr><td>65</td><td>PKS 1217+02</td><td>3.532562255859375</td><td>185.08299255371094</td><td>2.056999921798706</td><td>-32768</td><td>1</td><td>0</td><td>0.05833333358168602</td></tr>\n",
       "<tr><td>74</td><td>NEW_1</td><td>6.105274677276611</td><td>178.76161193847656</td><td>5.505251884460449</td><td>-32767</td><td>0</td><td>0</td><td>None</td></tr>\n",
       "<tr><td>86</td><td>IGR J12131+0700</td><td>6.995861530303955</td><td>183.20753479003906</td><td>6.995861530303955</td><td>-32768</td><td>1</td><td>0</td><td>0.00027777778450399637</td></tr>\n",
       "<tr><td>122</td><td>NEW_1</td><td>6.095477104187012</td><td>200.42080688476562</td><td>4.888803005218506</td><td>-32767</td><td>0</td><td>0</td><td>None</td></tr>\n",
       "</table>"
      ],
      "text/plain": [
       "<Table length=10>\n",
       "meta_ID    src_names       significance    ...  FLAG        ERR_RAD        \n",
       "                                           ...                             \n",
       " int64       str15           float64       ... int64         object        \n",
       "------- --------------- ------------------ ... ----- ----------------------\n",
       "      2          3C 273 18.170305252075195 ...     0  0.0002800000074785203\n",
       "      3          3C 279  3.879420757293701 ...     0  0.0002800000074785203\n",
       "     56        NGC 4388   5.55741548538208 ...     0  0.0002800000074785203\n",
       "     57        NGC 4593 14.242892265319824 ...     0  0.0002800000074785203\n",
       "     60        NGC 4941 3.6251442432403564 ...     0  0.0002800000074785203\n",
       "     64        NGC 5506 4.1867218017578125 ...     0  0.0002800000074785203\n",
       "     65     PKS 1217+02  3.532562255859375 ...     0    0.05833333358168602\n",
       "     74           NEW_1  6.105274677276611 ...     0                   None\n",
       "     86 IGR J12131+0700  6.995861530303955 ...     0 0.00027777778450399637\n",
       "    122           NEW_1  6.095477104187012 ...     0                   None"
      ]
     },
     "execution_count": 45,
     "metadata": {},
     "output_type": "execute_result"
    }
   ],
   "source": [
    "data.dispatcher_catalog_1.table"
   ]
  },
  {
   "cell_type": "code",
   "execution_count": 46,
   "metadata": {},
   "outputs": [],
   "source": [
    "torm=[]\n",
    "for ID,n in enumerate(data.dispatcher_catalog_1.table['src_names']):\n",
    "    if(n=='NEW_1'):\n",
    "        torm.append(ID)\n",
    "data.dispatcher_catalog_1.table.remove_rows(torm)"
   ]
  },
  {
   "cell_type": "code",
   "execution_count": 47,
   "metadata": {},
   "outputs": [
    {
     "data": {
      "text/html": [
       "<i>Table length=8</i>\n",
       "<table id=\"table4845841824\" class=\"table-striped table-bordered table-condensed\">\n",
       "<thead><tr><th>meta_ID</th><th>src_names</th><th>significance</th><th>ra</th><th>dec</th><th>NEW_SOURCE</th><th>ISGRI_FLAG</th><th>FLAG</th><th>ERR_RAD</th></tr></thead>\n",
       "<thead><tr><th></th><th></th><th></th><th>deg</th><th>deg</th><th></th><th></th><th></th><th></th></tr></thead>\n",
       "<thead><tr><th>int64</th><th>str15</th><th>float64</th><th>float64</th><th>float64</th><th>int64</th><th>int64</th><th>int64</th><th>object</th></tr></thead>\n",
       "<tr><td>2</td><td>3C 273</td><td>18.170305252075195</td><td>187.2891845703125</td><td>2.057224750518799</td><td>-32768</td><td>2</td><td>0</td><td>0.0002800000074785203</td></tr>\n",
       "<tr><td>3</td><td>3C 279</td><td>3.879420757293701</td><td>194.04653930664062</td><td>-5.789306163787842</td><td>-32768</td><td>2</td><td>0</td><td>0.0002800000074785203</td></tr>\n",
       "<tr><td>56</td><td>NGC 4388</td><td>5.55741548538208</td><td>186.44554138183594</td><td>12.662028312683105</td><td>-32768</td><td>2</td><td>0</td><td>0.0002800000074785203</td></tr>\n",
       "<tr><td>57</td><td>NGC 4593</td><td>14.242892265319824</td><td>189.9182586669922</td><td>-5.369694709777832</td><td>-32768</td><td>2</td><td>0</td><td>0.0002800000074785203</td></tr>\n",
       "<tr><td>60</td><td>NGC 4941</td><td>3.6251442432403564</td><td>196.05450439453125</td><td>-5.5515828132629395</td><td>-32768</td><td>2</td><td>0</td><td>0.0002800000074785203</td></tr>\n",
       "<tr><td>64</td><td>NGC 5506</td><td>4.1867218017578125</td><td>213.31195068359375</td><td>-3.2074999809265137</td><td>-32768</td><td>2</td><td>0</td><td>0.0002800000074785203</td></tr>\n",
       "<tr><td>65</td><td>PKS 1217+02</td><td>3.532562255859375</td><td>185.08299255371094</td><td>2.056999921798706</td><td>-32768</td><td>1</td><td>0</td><td>0.05833333358168602</td></tr>\n",
       "<tr><td>86</td><td>IGR J12131+0700</td><td>6.995861530303955</td><td>183.20753479003906</td><td>6.995861530303955</td><td>-32768</td><td>1</td><td>0</td><td>0.00027777778450399637</td></tr>\n",
       "</table>"
      ],
      "text/plain": [
       "<Table length=8>\n",
       "meta_ID    src_names       significance    ...  FLAG        ERR_RAD        \n",
       "                                           ...                             \n",
       " int64       str15           float64       ... int64         object        \n",
       "------- --------------- ------------------ ... ----- ----------------------\n",
       "      2          3C 273 18.170305252075195 ...     0  0.0002800000074785203\n",
       "      3          3C 279  3.879420757293701 ...     0  0.0002800000074785203\n",
       "     56        NGC 4388   5.55741548538208 ...     0  0.0002800000074785203\n",
       "     57        NGC 4593 14.242892265319824 ...     0  0.0002800000074785203\n",
       "     60        NGC 4941 3.6251442432403564 ...     0  0.0002800000074785203\n",
       "     64        NGC 5506 4.1867218017578125 ...     0  0.0002800000074785203\n",
       "     65     PKS 1217+02  3.532562255859375 ...     0    0.05833333358168602\n",
       "     86 IGR J12131+0700  6.995861530303955 ...     0 0.00027777778450399637"
      ]
     },
     "execution_count": 47,
     "metadata": {},
     "output_type": "execute_result"
    }
   ],
   "source": [
    "data.dispatcher_catalog_1.table\n"
   ]
  },
  {
   "cell_type": "code",
   "execution_count": 48,
   "metadata": {},
   "outputs": [],
   "source": [
    "api_cat=data.dispatcher_catalog_1.get_api_dictionary()"
   ]
  },
  {
   "cell_type": "code",
   "execution_count": 52,
   "metadata": {
    "scrolled": false
   },
   "outputs": [
    {
     "name": "stdout",
     "output_type": "stream",
     "text": [
      "0\n",
      "waiting for remote response, please wait run_analysis https://analyse-staging-1.2.reproducible.online/dispatch-data\n",
      "\n",
      "\n",
      "query done succesfully!\n",
      "1\n",
      "waiting for remote response, please wait run_analysis https://analyse-staging-1.2.reproducible.online/dispatch-data\n",
      "\n",
      "\n",
      "query done succesfully!\n",
      "2\n",
      "waiting for remote response, please wait run_analysis https://analyse-staging-1.2.reproducible.online/dispatch-data\n",
      "\n",
      "\n",
      "query done succesfully!\n",
      "3\n",
      "waiting for remote response, please wait run_analysis https://analyse-staging-1.2.reproducible.online/dispatch-data\n",
      "\n",
      "\n",
      "query done succesfully!\n",
      "4\n",
      "waiting for remote response, please wait run_analysis https://analyse-staging-1.2.reproducible.online/dispatch-data\n",
      "\n",
      "\n",
      "query done succesfully!\n",
      "5\n",
      "waiting for remote response, please wait run_analysis https://analyse-staging-1.2.reproducible.online/dispatch-data\n",
      "\n",
      "\n",
      "query done succesfully!\n",
      "6\n",
      "waiting for remote response, please wait run_analysis https://analyse-staging-1.2.reproducible.online/dispatch-data\n",
      "\n",
      "\n",
      "query done succesfully!\n",
      "7\n",
      "waiting for remote response, please wait run_analysis https://analyse-staging-1.2.reproducible.online/dispatch-data\n",
      "\n",
      "\n",
      "query done succesfully!\n",
      "8\n",
      "waiting for remote response, please wait run_analysis https://analyse-staging-1.2.reproducible.online/dispatch-data\n",
      "\n",
      "\n",
      "query done succesfully!\n",
      "9\n",
      "waiting for remote response, please wait run_analysis https://analyse-staging-1.2.reproducible.online/dispatch-data\n",
      "\n",
      "\n",
      "query done succesfully!\n",
      "10\n",
      "waiting for remote response, please wait run_analysis https://analyse-staging-1.2.reproducible.online/dispatch-data\n",
      "\n",
      "\n",
      "query done succesfully!\n",
      "11\n",
      "waiting for remote response, please wait run_analysis https://analyse-staging-1.2.reproducible.online/dispatch-data\n",
      "\n",
      "\n",
      "query done succesfully!\n",
      "12\n",
      "waiting for remote response, please wait run_analysis https://analyse-staging-1.2.reproducible.online/dispatch-data\n",
      "\n",
      "\n",
      "query done succesfully!\n",
      "13\n",
      "waiting for remote response, please wait run_analysis https://analyse-staging-1.2.reproducible.online/dispatch-data\n",
      "\n",
      "\n",
      "query done succesfully!\n",
      "14\n",
      "waiting for remote response, please wait run_analysis https://analyse-staging-1.2.reproducible.online/dispatch-data\n",
      "\n",
      "\n",
      "query done succesfully!\n",
      "15\n",
      "waiting for remote response, please wait run_analysis https://analyse-staging-1.2.reproducible.online/dispatch-data\n",
      "\n",
      "\n",
      "query done succesfully!\n",
      "16\n",
      "waiting for remote response, please wait run_analysis https://analyse-staging-1.2.reproducible.online/dispatch-data\n",
      "\n",
      "\n",
      "query done succesfully!\n",
      "17\n",
      "waiting for remote response, please wait run_analysis https://analyse-staging-1.2.reproducible.online/dispatch-data\n",
      "\n",
      "\n",
      "query done succesfully!\n",
      "18\n",
      "waiting for remote response, please wait run_analysis https://analyse-staging-1.2.reproducible.online/dispatch-data\n",
      "\n",
      "\n",
      "query done succesfully!\n",
      "19\n",
      "waiting for remote response, please wait run_analysis https://analyse-staging-1.2.reproducible.online/dispatch-data\n",
      "\n",
      "\n",
      "query done succesfully!\n",
      "20\n",
      "waiting for remote response, please wait run_analysis https://analyse-staging-1.2.reproducible.online/dispatch-data\n",
      "\n",
      "\n",
      "query done succesfully!\n",
      "21\n",
      "waiting for remote response, please wait run_analysis https://analyse-staging-1.2.reproducible.online/dispatch-data\n",
      "\n",
      "\n",
      "query done succesfully!\n",
      "22\n",
      "waiting for remote response, please wait run_analysis https://analyse-staging-1.2.reproducible.online/dispatch-data\n",
      "\n",
      "\n",
      "query done succesfully!\n",
      "23\n",
      "waiting for remote response, please wait run_analysis https://analyse-staging-1.2.reproducible.online/dispatch-data\n",
      "\n",
      "\n",
      "query done succesfully!\n",
      "24\n",
      "waiting for remote response, please wait run_analysis https://analyse-staging-1.2.reproducible.online/dispatch-data\n",
      "\n",
      "\n",
      "query done succesfully!\n"
     ]
    }
   ],
   "source": [
    "spectrum_results=[]\n",
    "for i in range(len(scw_lists)):\n",
    "    print(i)\n",
    "    data=disp.get_product(instrument='isgri',\n",
    "                            product='isgri_spectrum',\n",
    "                            scw_list=scw_lists[i],\n",
    "                            query_type='Real',\n",
    "                            osa_version='OSA10.2',\n",
    "                            RA=ra,\n",
    "                            DEC=dec,\n",
    "                            detection_threshold=5.0,\n",
    "                            radius=15.,\n",
    "                            product_type='Real',\n",
    "                            selected_catalog=api_cat)\n",
    "    spectrum_results.append(data)"
   ]
  },
  {
   "cell_type": "code",
   "execution_count": 53,
   "metadata": {},
   "outputs": [
    {
     "name": "stdout",
     "output_type": "stream",
     "text": [
      "0 1 2\n"
     ]
    }
   ],
   "source": [
    "for ID,s in enumerate(data._p_list):\n",
    "    if (s.meta_data['src_name']==source_name):\n",
    "        if(s.meta_data['product']=='isgri_spectrum'):\n",
    "            ID_spec=ID\n",
    "        if(s.meta_data['product']=='isgri_arf'):\n",
    "            ID_arf=ID\n",
    "        if(s.meta_data['product']=='isgri_rmf'):\n",
    "            ID_rmf=ID\n",
    "\n",
    "print(ID_spec, ID_arf, ID_rmf)\n",
    "\n",
    "                                             "
   ]
  },
  {
   "cell_type": "code",
   "execution_count": 54,
   "metadata": {},
   "outputs": [
    {
     "name": "stderr",
     "output_type": "stream",
     "text": [
      "/anaconda3/lib/python3.7/site-packages/ipykernel_launcher.py:7: RuntimeWarning: invalid value encountered in multiply\n",
      "  import sys\n",
      "/anaconda3/lib/python3.7/site-packages/ipykernel_launcher.py:35: RuntimeWarning: invalid value encountered in true_divide\n",
      "/anaconda3/lib/python3.7/site-packages/ipykernel_launcher.py:36: RuntimeWarning: divide by zero encountered in true_divide\n"
     ]
    }
   ],
   "source": [
    "d=spectrum_results[0]\n",
    "spec=d._p_list[ID_spec].data_unit[1].data\n",
    "arf=d._p_list[ID_arf].data_unit[1].data\n",
    "rmf=d._p_list[ID_rmf].data_unit[2].data\n",
    "ch=spec['CHANNEL']\n",
    "rate=spec['RATE']*0.\n",
    "err=spec['STAT_ERR']*0.\n",
    "syst=spec['SYS_ERR']*0.\n",
    "rate.fill(0)\n",
    "err.fill(0)\n",
    "syst.fill(0)\n",
    "qual=spec['QUALITY']\n",
    "matrix=rmf['MATRIX']*0.\n",
    "specresp=arf['SPECRESP']*0.\n",
    "tot_expos=0.\n",
    "corr_expos=np.zeros(len(rate))\n",
    "for k in range(len(scw_lists)):\n",
    "    d=spectrum_results[k]\n",
    "    spec=d._p_list[ID_spec].data_unit[1].data\n",
    "    arf=d._p_list[ID_arf].data_unit[1].data\n",
    "    rmf=d._p_list[ID_rmf].data_unit[2].data\n",
    "    expos=d._p_list[0].data_unit[1].header['EXPOSURE']\n",
    "    tot_expos=tot_expos+expos\n",
    "    for j in range(len(rate)):\n",
    "        if(spec['QUALITY'][j]==0):          \n",
    "            rate[j]=rate[j]+spec['RATE'][j]/(spec['STAT_ERR'][j])**2\n",
    "            err[j]=err[j]+1./(spec['STAT_ERR'][j])**2\n",
    "            syst[j]=syst[j]+(spec['SYS_ERR'][j])**2*expos\n",
    "            corr_expos[j]=corr_expos[j]+expos\n",
    "\n",
    "    matrix=matrix+rmf['MATRIX']*expos\n",
    "    specresp=specresp+arf['SPECRESP']*expos\n",
    "\n",
    "\n",
    "rate=rate/err\n",
    "err=1/sqrt(err)\n",
    "matrix=matrix/tot_expos\n",
    "specresp=specresp/tot_expos\n",
    "syst=sqrt(syst/(corr_expos+1))\n",
    "\n"
   ]
  },
  {
   "cell_type": "code",
   "execution_count": 55,
   "metadata": {},
   "outputs": [
    {
     "ename": "UnsupportedOperation",
     "evalue": "truncate",
     "output_type": "error",
     "traceback": [
      "\u001b[0;31m---------------------------------------------------------------------------\u001b[0m",
      "\u001b[0;31mUnsupportedOperation\u001b[0m                      Traceback (most recent call last)",
      "\u001b[0;32m<ipython-input-55-b5d6cbecd991>\u001b[0m in \u001b[0;36m<module>\u001b[0;34m\u001b[0m\n\u001b[1;32m     19\u001b[0m \u001b[0mrmf\u001b[0m\u001b[0;34m[\u001b[0m\u001b[0;34m'MATRIX'\u001b[0m\u001b[0;34m]\u001b[0m\u001b[0;34m=\u001b[0m\u001b[0mmatrix\u001b[0m\u001b[0;34m\u001b[0m\u001b[0;34m\u001b[0m\u001b[0m\n\u001b[1;32m     20\u001b[0m \u001b[0mhdul\u001b[0m\u001b[0;34m.\u001b[0m\u001b[0mflush\u001b[0m\u001b[0;34m(\u001b[0m\u001b[0;34m)\u001b[0m\u001b[0;34m\u001b[0m\u001b[0;34m\u001b[0m\u001b[0m\n\u001b[0;32m---> 21\u001b[0;31m \u001b[0mhdul\u001b[0m\u001b[0;34m.\u001b[0m\u001b[0mclose\u001b[0m\u001b[0;34m(\u001b[0m\u001b[0;34m)\u001b[0m\u001b[0;34m\u001b[0m\u001b[0;34m\u001b[0m\u001b[0m\n\u001b[0m\u001b[1;32m     22\u001b[0m \u001b[0mhdul\u001b[0m \u001b[0;34m=\u001b[0m \u001b[0mfits\u001b[0m\u001b[0;34m.\u001b[0m\u001b[0mopen\u001b[0m\u001b[0;34m(\u001b[0m\u001b[0mname\u001b[0m\u001b[0;34m+\u001b[0m\u001b[0;34m'_arf.fits.gz'\u001b[0m\u001b[0;34m,\u001b[0m \u001b[0mmode\u001b[0m\u001b[0;34m=\u001b[0m\u001b[0;34m'update'\u001b[0m\u001b[0;34m)\u001b[0m\u001b[0;34m\u001b[0m\u001b[0;34m\u001b[0m\u001b[0m\n\u001b[1;32m     23\u001b[0m \u001b[0marf\u001b[0m\u001b[0;34m=\u001b[0m\u001b[0mhdul\u001b[0m\u001b[0;34m[\u001b[0m\u001b[0;36m1\u001b[0m\u001b[0;34m]\u001b[0m\u001b[0;34m.\u001b[0m\u001b[0mdata\u001b[0m\u001b[0;34m\u001b[0m\u001b[0;34m\u001b[0m\u001b[0m\n",
      "\u001b[0;32m/anaconda3/lib/python3.7/site-packages/astropy/io/fits/hdu/hdulist.py\u001b[0m in \u001b[0;36mclose\u001b[0;34m(self, output_verify, verbose, closed)\u001b[0m\n\u001b[1;32m    954\u001b[0m             if (self._file and self._file.mode in ('append', 'update')\n\u001b[1;32m    955\u001b[0m                     and not self._file.closed):\n\u001b[0;32m--> 956\u001b[0;31m                 \u001b[0mself\u001b[0m\u001b[0;34m.\u001b[0m\u001b[0mflush\u001b[0m\u001b[0;34m(\u001b[0m\u001b[0moutput_verify\u001b[0m\u001b[0;34m=\u001b[0m\u001b[0moutput_verify\u001b[0m\u001b[0;34m,\u001b[0m \u001b[0mverbose\u001b[0m\u001b[0;34m=\u001b[0m\u001b[0mverbose\u001b[0m\u001b[0;34m)\u001b[0m\u001b[0;34m\u001b[0m\u001b[0;34m\u001b[0m\u001b[0m\n\u001b[0m\u001b[1;32m    957\u001b[0m         \u001b[0;32mfinally\u001b[0m\u001b[0;34m:\u001b[0m\u001b[0;34m\u001b[0m\u001b[0;34m\u001b[0m\u001b[0m\n\u001b[1;32m    958\u001b[0m             \u001b[0;32mif\u001b[0m \u001b[0mself\u001b[0m\u001b[0;34m.\u001b[0m\u001b[0m_file\u001b[0m \u001b[0;32mand\u001b[0m \u001b[0mclosed\u001b[0m \u001b[0;32mand\u001b[0m \u001b[0mhasattr\u001b[0m\u001b[0;34m(\u001b[0m\u001b[0mself\u001b[0m\u001b[0;34m.\u001b[0m\u001b[0m_file\u001b[0m\u001b[0;34m,\u001b[0m \u001b[0;34m'close'\u001b[0m\u001b[0;34m)\u001b[0m\u001b[0;34m:\u001b[0m\u001b[0;34m\u001b[0m\u001b[0;34m\u001b[0m\u001b[0m\n",
      "\u001b[0;32m/anaconda3/lib/python3.7/site-packages/astropy/utils/decorators.py\u001b[0m in \u001b[0;36mflush\u001b[0;34m(self, output_verify, verbose)\u001b[0m\n\u001b[1;32m    858\u001b[0m             \u001b[0mname\u001b[0m \u001b[0;34m=\u001b[0m \u001b[0mfunc\u001b[0m\u001b[0;34m.\u001b[0m\u001b[0m__name__\u001b[0m\u001b[0;34m\u001b[0m\u001b[0;34m\u001b[0m\u001b[0m\n\u001b[1;32m    859\u001b[0m \u001b[0;34m\u001b[0m\u001b[0m\n\u001b[0;32m--> 860\u001b[0;31m         \u001b[0mfunc\u001b[0m \u001b[0;34m=\u001b[0m \u001b[0mmake_function_with_signature\u001b[0m\u001b[0;34m(\u001b[0m\u001b[0mfunc\u001b[0m\u001b[0;34m,\u001b[0m \u001b[0mname\u001b[0m\u001b[0;34m=\u001b[0m\u001b[0mname\u001b[0m\u001b[0;34m,\u001b[0m \u001b[0;34m**\u001b[0m\u001b[0mwrapped_args\u001b[0m\u001b[0;34m)\u001b[0m\u001b[0;34m\u001b[0m\u001b[0;34m\u001b[0m\u001b[0m\n\u001b[0m\u001b[1;32m    861\u001b[0m         func = functools.update_wrapper(func, wrapped, assigned=assigned,\n\u001b[1;32m    862\u001b[0m                                         updated=updated)\n",
      "\u001b[0;32m/anaconda3/lib/python3.7/site-packages/astropy/io/fits/util.py\u001b[0m in \u001b[0;36mwrapped\u001b[0;34m(*args, **kwargs)\u001b[0m\n\u001b[1;32m    231\u001b[0m \u001b[0;34m\u001b[0m\u001b[0m\n\u001b[1;32m    232\u001b[0m         \u001b[0;32mtry\u001b[0m\u001b[0;34m:\u001b[0m\u001b[0;34m\u001b[0m\u001b[0;34m\u001b[0m\u001b[0m\n\u001b[0;32m--> 233\u001b[0;31m             \u001b[0mfunc\u001b[0m\u001b[0;34m(\u001b[0m\u001b[0;34m*\u001b[0m\u001b[0margs\u001b[0m\u001b[0;34m,\u001b[0m \u001b[0;34m**\u001b[0m\u001b[0mkwargs\u001b[0m\u001b[0;34m)\u001b[0m\u001b[0;34m\u001b[0m\u001b[0;34m\u001b[0m\u001b[0m\n\u001b[0m\u001b[1;32m    234\u001b[0m         \u001b[0;32mfinally\u001b[0m\u001b[0;34m:\u001b[0m\u001b[0;34m\u001b[0m\u001b[0;34m\u001b[0m\u001b[0m\n\u001b[1;32m    235\u001b[0m             \u001b[0;32mif\u001b[0m \u001b[0msingle_thread\u001b[0m\u001b[0;34m:\u001b[0m\u001b[0;34m\u001b[0m\u001b[0;34m\u001b[0m\u001b[0m\n",
      "\u001b[0;32m/anaconda3/lib/python3.7/site-packages/astropy/io/fits/hdu/hdulist.py\u001b[0m in \u001b[0;36mflush\u001b[0;34m(self, output_verify, verbose)\u001b[0m\n\u001b[1;32m    833\u001b[0m \u001b[0;34m\u001b[0m\u001b[0m\n\u001b[1;32m    834\u001b[0m         \u001b[0;32melif\u001b[0m \u001b[0mself\u001b[0m\u001b[0;34m.\u001b[0m\u001b[0m_file\u001b[0m\u001b[0;34m.\u001b[0m\u001b[0mmode\u001b[0m \u001b[0;34m==\u001b[0m \u001b[0;34m'update'\u001b[0m\u001b[0;34m:\u001b[0m\u001b[0;34m\u001b[0m\u001b[0;34m\u001b[0m\u001b[0m\n\u001b[0;32m--> 835\u001b[0;31m             \u001b[0mself\u001b[0m\u001b[0;34m.\u001b[0m\u001b[0m_flush_update\u001b[0m\u001b[0;34m(\u001b[0m\u001b[0;34m)\u001b[0m\u001b[0;34m\u001b[0m\u001b[0;34m\u001b[0m\u001b[0m\n\u001b[0m\u001b[1;32m    836\u001b[0m \u001b[0;34m\u001b[0m\u001b[0m\n\u001b[1;32m    837\u001b[0m     \u001b[0;32mdef\u001b[0m \u001b[0mupdate_extend\u001b[0m\u001b[0;34m(\u001b[0m\u001b[0mself\u001b[0m\u001b[0;34m)\u001b[0m\u001b[0;34m:\u001b[0m\u001b[0;34m\u001b[0m\u001b[0;34m\u001b[0m\u001b[0m\n",
      "\u001b[0;32m/anaconda3/lib/python3.7/site-packages/astropy/io/fits/hdu/hdulist.py\u001b[0m in \u001b[0;36m_flush_update\u001b[0;34m(self)\u001b[0m\n\u001b[1;32m   1249\u001b[0m             \u001b[0;31m# the hdulist to the file.\u001b[0m\u001b[0;34m\u001b[0m\u001b[0;34m\u001b[0m\u001b[0;34m\u001b[0m\u001b[0m\n\u001b[1;32m   1250\u001b[0m             \u001b[0;32mif\u001b[0m \u001b[0mself\u001b[0m\u001b[0;34m.\u001b[0m\u001b[0m_resize\u001b[0m \u001b[0;32mor\u001b[0m \u001b[0mself\u001b[0m\u001b[0;34m.\u001b[0m\u001b[0m_file\u001b[0m\u001b[0;34m.\u001b[0m\u001b[0mcompression\u001b[0m\u001b[0;34m:\u001b[0m\u001b[0;34m\u001b[0m\u001b[0;34m\u001b[0m\u001b[0m\n\u001b[0;32m-> 1251\u001b[0;31m                 \u001b[0mself\u001b[0m\u001b[0;34m.\u001b[0m\u001b[0m_flush_resize\u001b[0m\u001b[0;34m(\u001b[0m\u001b[0;34m)\u001b[0m\u001b[0;34m\u001b[0m\u001b[0;34m\u001b[0m\u001b[0m\n\u001b[0m\u001b[1;32m   1252\u001b[0m             \u001b[0;32melse\u001b[0m\u001b[0;34m:\u001b[0m\u001b[0;34m\u001b[0m\u001b[0;34m\u001b[0m\u001b[0m\n\u001b[1;32m   1253\u001b[0m                 \u001b[0;31m# if not resized, update in place\u001b[0m\u001b[0;34m\u001b[0m\u001b[0;34m\u001b[0m\u001b[0;34m\u001b[0m\u001b[0m\n",
      "\u001b[0;32m/anaconda3/lib/python3.7/site-packages/astropy/io/fits/hdu/hdulist.py\u001b[0m in \u001b[0;36m_flush_resize\u001b[0;34m(self)\u001b[0m\n\u001b[1;32m   1353\u001b[0m             \u001b[0mffo\u001b[0m \u001b[0;34m=\u001b[0m \u001b[0mself\u001b[0m\u001b[0;34m.\u001b[0m\u001b[0m_file\u001b[0m\u001b[0;34m\u001b[0m\u001b[0;34m\u001b[0m\u001b[0m\n\u001b[1;32m   1354\u001b[0m \u001b[0;34m\u001b[0m\u001b[0m\n\u001b[0;32m-> 1355\u001b[0;31m             \u001b[0mffo\u001b[0m\u001b[0;34m.\u001b[0m\u001b[0mtruncate\u001b[0m\u001b[0;34m(\u001b[0m\u001b[0;36m0\u001b[0m\u001b[0;34m)\u001b[0m\u001b[0;34m\u001b[0m\u001b[0;34m\u001b[0m\u001b[0m\n\u001b[0m\u001b[1;32m   1356\u001b[0m             \u001b[0mffo\u001b[0m\u001b[0;34m.\u001b[0m\u001b[0mseek\u001b[0m\u001b[0;34m(\u001b[0m\u001b[0;36m0\u001b[0m\u001b[0;34m)\u001b[0m\u001b[0;34m\u001b[0m\u001b[0;34m\u001b[0m\u001b[0m\n\u001b[1;32m   1357\u001b[0m \u001b[0;34m\u001b[0m\u001b[0m\n",
      "\u001b[0;32m/anaconda3/lib/python3.7/site-packages/astropy/io/fits/file.py\u001b[0m in \u001b[0;36mtruncate\u001b[0;34m(self, size)\u001b[0m\n\u001b[1;32m    386\u001b[0m     \u001b[0;32mdef\u001b[0m \u001b[0mtruncate\u001b[0m\u001b[0;34m(\u001b[0m\u001b[0mself\u001b[0m\u001b[0;34m,\u001b[0m \u001b[0msize\u001b[0m\u001b[0;34m=\u001b[0m\u001b[0;32mNone\u001b[0m\u001b[0;34m)\u001b[0m\u001b[0;34m:\u001b[0m\u001b[0;34m\u001b[0m\u001b[0;34m\u001b[0m\u001b[0m\n\u001b[1;32m    387\u001b[0m         \u001b[0;32mif\u001b[0m \u001b[0mhasattr\u001b[0m\u001b[0;34m(\u001b[0m\u001b[0mself\u001b[0m\u001b[0;34m.\u001b[0m\u001b[0m_file\u001b[0m\u001b[0;34m,\u001b[0m \u001b[0;34m'truncate'\u001b[0m\u001b[0;34m)\u001b[0m\u001b[0;34m:\u001b[0m\u001b[0;34m\u001b[0m\u001b[0;34m\u001b[0m\u001b[0m\n\u001b[0;32m--> 388\u001b[0;31m             \u001b[0mself\u001b[0m\u001b[0;34m.\u001b[0m\u001b[0m_file\u001b[0m\u001b[0;34m.\u001b[0m\u001b[0mtruncate\u001b[0m\u001b[0;34m(\u001b[0m\u001b[0msize\u001b[0m\u001b[0;34m)\u001b[0m\u001b[0;34m\u001b[0m\u001b[0;34m\u001b[0m\u001b[0m\n\u001b[0m\u001b[1;32m    389\u001b[0m \u001b[0;34m\u001b[0m\u001b[0m\n\u001b[1;32m    390\u001b[0m     \u001b[0;32mdef\u001b[0m \u001b[0mclose\u001b[0m\u001b[0;34m(\u001b[0m\u001b[0mself\u001b[0m\u001b[0;34m)\u001b[0m\u001b[0;34m:\u001b[0m\u001b[0;34m\u001b[0m\u001b[0;34m\u001b[0m\u001b[0m\n",
      "\u001b[0;31mUnsupportedOperation\u001b[0m: truncate"
     ]
    }
   ],
   "source": [
    "specname=name+'_spectrum.fits'\n",
    "arfname=name+'_arf.fits.gz'\n",
    "rmfname=name+'_rmf.fits.gz'\n",
    "!cp spectrum.fits $specname\n",
    "!cp arf.fits.gz $arfname\n",
    "!cp rmf.fits.gz $rmfname\n",
    "\n",
    "hdul = fits.open(name+'_spectrum.fits', mode='update')\n",
    "hdr=hdul[1].header\n",
    "hdr.set('EXPOSURE', tot_expos)\n",
    "spec=hdul[1].data\n",
    "spec['RATE']=rate\n",
    "spec['SYS_ERR']=syst\n",
    "spec['STAT_ERR']=err\n",
    "hdul.flush()\n",
    "hdul.close()\n",
    "hdul = fits.open(name+'_rmf.fits.gz', mode='update')\n",
    "rmf=hdul[2].data\n",
    "rmf['MATRIX']=matrix\n",
    "hdul.flush()\n",
    "hdul.close()\n",
    "hdul = fits.open(name+'_arf.fits.gz', mode='update')\n",
    "arf=hdul[1].data\n",
    "arf['SPECRESP']=specresp\n",
    "hdul.flush()\n",
    "hdul.close()\n",
    "print(tot_expos)"
   ]
  },
  {
   "cell_type": "code",
   "execution_count": 18,
   "metadata": {
    "scrolled": false
   },
   "outputs": [
    {
     "name": "stdout",
     "output_type": "stream",
     "text": [
      "\n",
      "\t\tXSPEC version: 12.9.0n\n",
      "\tBuild Date/Time: Tue Nov  8 18:03:34 2016\n",
      "\n",
      "XSPEC12>statistic chi\n",
      "Default fit statistic is set to: Chi-Squared\n",
      "   This will apply to all current and newly loaded spectra.\n",
      "XSPEC12>data 3C279_spectrum.fits\n",
      "***Warning: POISSERR keyword is missing or of wrong format, assuming FALSE.\n",
      "\n",
      "1 spectrum  in use\n",
      " \n",
      "Spectral Data File: 3C279_spectrum.fits  Spectrum 1\n",
      "Net count rate (cts/s) for Spectrum:1  nan       +/- nan      \n",
      " Assigned to Data Group 1 and Plot Group 1\n",
      "  Noticed Channels:  1-62\n",
      "  Telescope: INTEGRAL Instrument: IBIS  Channel Type: PI\n",
      "  Exposure Time: 2.4e+06 sec\n",
      " Using fit statistic: chi\n",
      " Using test statistic: chi\n",
      " No response loaded.\n",
      "\n",
      "***Warning!  One or more spectra are missing responses,\n",
      "               and are not suitable for fit.\n",
      "XSPEC12>response 3C279_rmf.fits.gz\n",
      "Warning: RMF CHANTYPE keyword (PHA) is not consistent with that from spectrum (PI)\n",
      "Response successfully loaded.\n",
      "XSPEC12>arf 3C279_arf.fits.gz\n",
      "Arf successfully loaded.\n",
      "XSPEC12>ignore bad\n",
      "\n",
      "ignore:     1 channels ignored from  source number 1\n",
      "XSPEC12>ignore **-20.\n",
      "     8 channels (1-8) ignored in spectrum #     1\n",
      "\n",
      "XSPEC12>ignore 1:300.-**\n",
      "     5 channels (58-62) ignored in spectrum #     1\n",
      "\n",
      "XSPEC12>method leven 10 0.01\n",
      "XSPEC12>abund angr\n",
      " Solar Abundance Vector set to angr:  Anders E. & Grevesse N. Geochimica et Cosmochimica Acta 53, 197 (1989)\n",
      "XSPEC12>xsect bcmc\n",
      " Cross Section Table set to bcmc:  Balucinska-Church and McCammon, 1998\n",
      "XSPEC12>cosmo 70 0 0.73\n",
      "XSPEC12>xset delta 0.01\n",
      "Parameter delta values for fits will now be 0.01 * parValue\n",
      "XSPEC12>systematic 0\n",
      " Model systematic error set to 0\n",
      "XSPEC12>model  cutoffpl\n",
      "\n",
      "Input parameter value, delta, min, bot, top, and max values for ...\n",
      "              1       0.01(      0.01)         -3         -2          9         10\n",
      "         10PhoIndex>         1.43356       0.01         -3         -2          9 \n",
      "             15       0.01(      0.15)       0.01          1        500        500\n",
      "       500:HighECut>         192.65       0.01       0.01          1        500  \n",
      "              1       0.01(      0.01)          0          0      1e+20      1e+24\n",
      " 1e+24ffpl:norm>      0.0104736       0.01          0          0      1e+20      \n",
      "\n",
      "========================================================================\n",
      "Model cutoffpl<1> Source No.: 1   Active/On\n",
      "Model Model Component  Parameter  Unit     Value\n",
      " par  comp\n",
      "   1    1   cutoffpl   PhoIndex            1.43356      +/-  0.0          \n",
      "   2    1   cutoffpl   HighECut   keV      192.650      +/-  0.0          \n",
      "   3    1   cutoffpl   norm                1.04736E-02  +/-  0.0          \n",
      "________________________________________________________________________\n",
      "\n",
      "\n",
      "Fit statistic : Chi-Squared =        8016.15 using 49 PHA bins.\n",
      "\n",
      "Test statistic : Chi-Squared =        8016.15 using 49 PHA bins.\n",
      " Reduced chi-squared =        174.264 for     46 degrees of freedom \n",
      " Null hypothesis probability =   0.000000e+00\n",
      " Current data and model not fit yet.\n",
      "XSPEC12>fit 100\n",
      "                                   Parameters\n",
      "Chi-Squared  |beta|/N    Lvl    1:PhoIndex    2:HighECut        3:norm\n",
      "85.9802      7.83913      -1       1.45053       405.509    0.00122869\n",
      "85.6639      7505.92      -1       1.44133       485.735    0.00114908\n",
      "84.6056      8622.79      -1       1.42815       498.042    0.00110147\n",
      "83.6442      8620.96      -1       1.41519       499.093    0.00105964\n",
      "82.7665      8523.24      -1       1.40277       499.665    0.00102100\n",
      "81.9729      8391.85      -1       1.39087       499.957   0.000985135\n",
      "81.2561      8236.11      -1       1.37946       499.993   0.000951771\n",
      "80.6071      8058.05      -1       1.36852       499.997   0.000920676\n",
      "80.0192      7857.76      -1       1.35803       499.999   0.000891652\n",
      "79.8553      7635.8       -2       1.30729       500.000   0.000719690\n",
      "76.5827      11113.2      -2       1.24966       500.000   0.000615182\n",
      "75.4582      6709.71      -2       1.19947       481.271   0.000532881\n",
      "75.4056      1396.53      -2       1.15528       327.496   0.000467408\n",
      "75.0157      4217.75      -2       1.11679       314.921   0.000412953\n",
      "74.8832      1221.2       -2       1.08070       262.293   0.000370575\n",
      "74.7193      2379.85      -2       1.04855       242.186   0.000334775\n",
      "74.6082      1336.85      -2       1.01886       219.934   0.000305480\n",
      "74.5095      1474.17      -2      0.991813       204.695   0.000280707\n",
      "74.4283      1198.43      -2      0.966927       191.814   0.000259768\n",
      "74.3593      1091.63      -2      0.944037       181.417   0.000241848\n",
      "74.3009      955.823      -2      0.922929       172.718   0.000226417\n",
      "74.2511      844.104      -2      0.903441       165.383   0.000213036\n",
      "74.2085      740.998      -2      0.885422       159.117   0.000201362\n",
      "74.172       648.908      -2      0.868740       153.713   0.000191120\n",
      "74.1407      566.229      -2      0.853281       149.015   0.000182090\n",
      "74.1137      492.147      -2      0.838939       144.900   0.000174091\n",
      "74.0905      425.973      -2      0.825624       141.273   0.000166978\n",
      "74.0704      366.86       -2      0.813252       138.058   0.000160626\n",
      "74.053       314.358      -2      0.801747       135.193   0.000154934\n",
      "74.038       267.806      -2      0.791041       132.630   0.000149818\n",
      "74.025       226.586      -2      0.781073       130.327   0.000145206\n",
      "74.0136      190.208      -2      0.771787       128.251   0.000141035\n",
      "74.0038      158.25       -2      0.763131       126.373   0.000137255\n",
      "========================================\n",
      " Variances and Principal Axes\n",
      "                 1        2        3  \n",
      " 8.3517E-11| -0.0006   0.0000   1.0000  \n",
      " 1.6806E-02|  1.0000  -0.0039   0.0006  \n",
      " 1.4634E+04| -0.0039  -1.0000  -0.0000  \n",
      "----------------------------------------\n",
      "\n",
      "====================================\n",
      "  Covariance Matrix\n",
      "        1           2           3   \n",
      "   2.347e-01   5.647e+01   1.017e-04\n",
      "   5.647e+01   1.463e+04   2.393e-02\n",
      "   1.017e-04   2.393e-02   4.445e-08\n",
      "------------------------------------\n",
      "\n",
      "========================================================================\n",
      "Model cutoffpl<1> Source No.: 1   Active/On\n",
      "Model Model Component  Parameter  Unit     Value\n",
      " par  comp\n",
      "   1    1   cutoffpl   PhoIndex            0.763131     +/-  0.484482     \n",
      "   2    1   cutoffpl   HighECut   keV      126.373      +/-  120.971      \n",
      "   3    1   cutoffpl   norm                1.37255E-04  +/-  2.10827E-04  \n",
      "________________________________________________________________________\n",
      "\n",
      "\n",
      "Fit statistic : Chi-Squared =          74.00 using 49 PHA bins.\n",
      "\n",
      "Test statistic : Chi-Squared =          74.00 using 49 PHA bins.\n",
      " Reduced chi-squared =          1.609 for     46 degrees of freedom \n",
      " Null hypothesis probability =   5.497382e-03\n",
      "XSPEC12>setplot rebin 5 5\n",
      "XSPEC12>plot eeufs\n",
      "XSPEC12>iplot\n",
      "PLT> wdata 3C279_spectrum.txt\n",
      "PLT> XSPEC12>\n",
      " XSPEC: quit\n"
     ]
    }
   ],
   "source": [
    "!./spectrum_fit.sh $name $rebin"
   ]
  },
  {
   "cell_type": "code",
   "execution_count": 33,
   "metadata": {},
   "outputs": [
    {
     "name": "stdout",
     "output_type": "stream",
     "text": [
      "waiting for remote response, please wait run_analysis https://analyse-staging-1.2.reproducible.online/dispatch-data\n",
      "the job has been submitted on the remote server\n",
      " \\ the job is working remotely, please wait status=done - job_id=5049070276391507368  68  \n",
      "\n",
      "query done succesfully!\n"
     ]
    }
   ],
   "source": [
    "data=disp.get_product(instrument='isgri',\n",
    "                        product='isgri_spectrum',\n",
    "                        T1='2015-06-15T15:56:45',\n",
    "                        T2='2015-06-16T06:13:10',\n",
    "                        query_type='Real',\n",
    "                        osa_version='OSA10.2',\n",
    "                        RA=ra,\n",
    "                        DEC=dec,\n",
    "                        detection_threshold=5.0,\n",
    "                        radius=15.,\n",
    "                        product_type='Real',\n",
    "                        selected_catalog=api_cat)"
   ]
  },
  {
   "cell_type": "code",
   "execution_count": 19,
   "metadata": {},
   "outputs": [
    {
     "name": "stderr",
     "output_type": "stream",
     "text": [
      "WARNING: VerifyWarning: Keyword name 'detection_threshold' is greater than 8 characters or contains characters not allowed by the FITS standard; a HIERARCH card will be created. [astropy.io.fits.card]\n",
      "WARNING: VerifyWarning: Keyword name 'instrument' is greater than 8 characters or contains characters not allowed by the FITS standard; a HIERARCH card will be created. [astropy.io.fits.card]\n",
      "WARNING: VerifyWarning: Keyword name 'osa_version' is greater than 8 characters or contains characters not allowed by the FITS standard; a HIERARCH card will be created. [astropy.io.fits.card]\n",
      "WARNING: VerifyWarning: Keyword name 'product_type' is greater than 8 characters or contains characters not allowed by the FITS standard; a HIERARCH card will be created. [astropy.io.fits.card]\n",
      "WARNING: VerifyWarning: Keyword name 'query_status' is greater than 8 characters or contains characters not allowed by the FITS standard; a HIERARCH card will be created. [astropy.io.fits.card]\n",
      "WARNING: VerifyWarning: Keyword name 'query_type' is greater than 8 characters or contains characters not allowed by the FITS standard; a HIERARCH card will be created. [astropy.io.fits.card]\n",
      "WARNING: VerifyWarning: Keyword name 'session_id' is greater than 8 characters or contains characters not allowed by the FITS standard; a HIERARCH card will be created. [astropy.io.fits.card]\n"
     ]
    }
   ],
   "source": [
    "data._p_list[0].write_fits_file(name+'_flare_spectrum.fits')\n",
    "data._p_list[1].write_fits_file(name+'_flare_arf.fits.gz')\n",
    "data._p_list[2].write_fits_file(name+'_flare_rmf.fits.gz')"
   ]
  },
  {
   "cell_type": "code",
   "execution_count": 20,
   "metadata": {
    "scrolled": false
   },
   "outputs": [
    {
     "name": "stdout",
     "output_type": "stream",
     "text": [
      "\n",
      "\t\tXSPEC version: 12.9.0n\n",
      "\tBuild Date/Time: Tue Nov  8 18:03:34 2016\n",
      "\n",
      "XSPEC12>statistic chi\n",
      "Default fit statistic is set to: Chi-Squared\n",
      "   This will apply to all current and newly loaded spectra.\n",
      "XSPEC12>data 3C279_flare_spectrum.fits\n",
      "***Warning: POISSERR keyword is missing or of wrong format, assuming FALSE.\n",
      "\n",
      "1 spectrum  in use\n",
      " \n",
      "Spectral Data File: 3C279_flare_spectrum.fits  Spectrum 1\n",
      "Net count rate (cts/s) for Spectrum:1  nan       +/- nan      \n",
      " Assigned to Data Group 1 and Plot Group 1\n",
      "  Noticed Channels:  1-62\n",
      "  Telescope: INTEGRAL Instrument: IBIS  Channel Type: PI\n",
      "  Exposure Time: 8.442e+04 sec\n",
      " Using fit statistic: chi\n",
      " Using test statistic: chi\n",
      " No response loaded.\n",
      "\n",
      "***Warning!  One or more spectra are missing responses,\n",
      "               and are not suitable for fit.\n",
      "XSPEC12>response 3C279_flare_rmf.fits.gz\n",
      "Warning: RMF CHANTYPE keyword (PHA) is not consistent with that from spectrum (PI)\n",
      "Response successfully loaded.\n",
      "XSPEC12>arf 3C279_flare_arf.fits.gz\n",
      "Arf successfully loaded.\n",
      "XSPEC12>ignore bad\n",
      "\n",
      "ignore:     1 channels ignored from  source number 1\n",
      "XSPEC12>ignore **-20.\n",
      "     8 channels (1-8) ignored in spectrum #     1\n",
      "\n",
      "XSPEC12>ignore 1:300.-**\n",
      "     5 channels (58-62) ignored in spectrum #     1\n",
      "\n",
      "XSPEC12>method leven 10 0.01\n",
      "XSPEC12>abund angr\n",
      " Solar Abundance Vector set to angr:  Anders E. & Grevesse N. Geochimica et Cosmochimica Acta 53, 197 (1989)\n",
      "XSPEC12>xsect bcmc\n",
      " Cross Section Table set to bcmc:  Balucinska-Church and McCammon, 1998\n",
      "XSPEC12>cosmo 70 0 0.73\n",
      "XSPEC12>xset delta 0.01\n",
      "Parameter delta values for fits will now be 0.01 * parValue\n",
      "XSPEC12>systematic 0\n",
      " Model systematic error set to 0\n",
      "XSPEC12>model  cutoffpl\n",
      "\n",
      "Input parameter value, delta, min, bot, top, and max values for ...\n",
      "              1       0.01(      0.01)         -3         -2          9         10\n",
      "         10PhoIndex>         1.43356       0.01         -3         -2          9 \n",
      "             15       0.01(      0.15)       0.01          1        500        500\n",
      "       500:HighECut>         192.65       0.01       0.01          1        500  \n",
      "              1       0.01(      0.01)          0          0      1e+20      1e+24\n",
      " 1e+24ffpl:norm>      0.0104736       0.01          0          0      1e+20      \n",
      "\n",
      "========================================================================\n",
      "Model cutoffpl<1> Source No.: 1   Active/On\n",
      "Model Model Component  Parameter  Unit     Value\n",
      " par  comp\n",
      "   1    1   cutoffpl   PhoIndex            1.43356      +/-  0.0          \n",
      "   2    1   cutoffpl   HighECut   keV      192.650      +/-  0.0          \n",
      "   3    1   cutoffpl   norm                1.04736E-02  +/-  0.0          \n",
      "________________________________________________________________________\n",
      "\n",
      "\n",
      "Fit statistic : Chi-Squared =         286.82 using 49 PHA bins.\n",
      "\n",
      "Test statistic : Chi-Squared =         286.82 using 49 PHA bins.\n",
      " Reduced chi-squared =         6.2352 for     46 degrees of freedom \n",
      " Null hypothesis probability =   1.527649e-36\n",
      " Current data and model not fit yet.\n",
      "XSPEC12>fit 100\n",
      "                                   Parameters\n",
      "Chi-Squared  |beta|/N    Lvl    1:PhoIndex    2:HighECut        3:norm\n",
      "34.5146      0.0953001    -3       1.17994       397.780   0.000115283\n",
      "34.4851      307.84        0       1.15437       480.901   0.000100166\n",
      "34.4564      415.486       0       1.12250       495.102   9.00414e-05\n",
      "34.4239      488.228       0       1.08984       498.584   8.21593e-05\n",
      "34.3906      548.479       0       1.05834       499.812   7.56516e-05\n",
      "34.3584      600.118       0       1.02869       499.983   7.00907e-05\n",
      "34.328       644.782       0       1.00101       499.993   6.52305e-05\n",
      "34.2997      683.834       0      0.975220       499.997   6.09213e-05\n",
      "34.2736      718.335       0      0.951134       499.999   5.70604e-05\n",
      "34.2493      749.293       0      0.928552       500.000   5.35817e-05\n",
      "34.2268      776.948       0      0.907301       500.000   5.04312e-05\n",
      "34.2059      801.64        0      0.887230       500.000   4.75662e-05\n",
      "34.1864      823.564       0      0.868212       500.000   4.49517e-05\n",
      "34.1681      842.82        0      0.850138       500.000   4.25585e-05\n",
      "34.1511      859.453       0      0.832914       500.000   4.03617e-05\n",
      "34.135       873.476       0      0.816463       500.000   3.83402e-05\n",
      "34.1199      884.884       0      0.800717       500.000   3.64754e-05\n",
      "34.1057      893.664       0      0.785619       500.000   3.47513e-05\n",
      "34.0923      899.802       0      0.771117       500.000   3.31540e-05\n",
      "34.0796      903.284       0      0.757168       500.000   3.16712e-05\n",
      "34.0676      904.1         0      0.743731       500.000   3.02921e-05\n",
      "34.0562      902.239       0      0.730774       500.000   2.90072e-05\n",
      "34.0455      897.697       0      0.718263       500.000   2.78080e-05\n",
      "34.0353      890.472       0      0.706173       500.000   2.66870e-05\n",
      "34.0255      880.563       0      0.694477       500.000   2.56374e-05\n",
      "34.0163      867.975       0      0.683152       500.000   2.46534e-05\n",
      "========================================\n",
      " Variances and Principal Axes\n",
      "                 1        2        3  \n",
      " 7.5644E-10| -0.0001   0.0000   1.0000  \n",
      " 3.7457E+00|  1.0000  -0.0002   0.0001  \n",
      " 1.5963E+09| -0.0002  -1.0000  -0.0000  \n",
      "----------------------------------------\n",
      "\n",
      "====================================\n",
      "  Covariance Matrix\n",
      "        1           2           3   \n",
      "   4.165e+01   2.460e+05   3.481e-03\n",
      "   2.460e+05   1.596e+09   1.992e+01\n",
      "   3.481e-03   1.992e+01   2.945e-07\n",
      "------------------------------------\n",
      "\n",
      "========================================================================\n",
      "Model cutoffpl<1> Source No.: 1   Active/On\n",
      "Model Model Component  Parameter  Unit     Value\n",
      " par  comp\n",
      "   1    1   cutoffpl   PhoIndex            0.683152     +/-  6.45403      \n",
      "   2    1   cutoffpl   HighECut   keV      500.000      +/-  3.99543E+04  \n",
      "   3    1   cutoffpl   norm                2.46534E-05  +/-  5.42688E-04  \n",
      "________________________________________________________________________\n",
      "\n",
      "\n",
      "Fit statistic : Chi-Squared =          34.02 using 49 PHA bins.\n",
      "\n",
      "Test statistic : Chi-Squared =          34.02 using 49 PHA bins.\n",
      " Reduced chi-squared =         0.7395 for     46 degrees of freedom \n",
      " Null hypothesis probability =   9.043746e-01\n",
      "XSPEC12>setplot rebin 5 5\n",
      "XSPEC12>plot eeufs\n",
      "XSPEC12>iplot\n",
      "PLT> wdata 3C279_flare_spectrum.txt\n",
      "PLT> XSPEC12>\n",
      " XSPEC: quit\n"
     ]
    }
   ],
   "source": [
    "name1=name+'_flare'\n",
    "!./spectrum_fit.sh $name1 $rebin"
   ]
  },
  {
   "cell_type": "code",
   "execution_count": 21,
   "metadata": {},
   "outputs": [
    {
     "data": {
      "image/png": "[encoded data removed]",
      "text/plain": [
       "<Figure size 720x504 with 1 Axes>"
      ]
     },
     "metadata": {
      "needs_background": "light"
     },
     "output_type": "display_data"
    }
   ],
   "source": [
    "plt.figure(figsize=(10,7))\n",
    "\n",
    "spectrum=np.genfromtxt(name+'_spectrum.txt',skip_header=3)\n",
    "en=spectrum[:,0]\n",
    "en_err=spectrum[:,1]\n",
    "fl=spectrum[:,2]\n",
    "fl_err=spectrum[:,3]\n",
    "mo=spectrum[:,4]\n",
    "plt.errorbar(en,fl,xerr=en_err,yerr=fl_err,linestyle='none',linewidth=8,color='black',alpha=1)\n",
    "plt.plot(en,mo,color='black',linewidth=4)\n",
    "\n",
    "spectrum=np.genfromtxt(name+'_flare_spectrum.txt',skip_header=3)\n",
    "en=spectrum[:,0]\n",
    "en_err=spectrum[:,1]\n",
    "fl=spectrum[:,2]\n",
    "fl_err=spectrum[:,3]\n",
    "mo=spectrum[:,4]\n",
    "plt.errorbar(en,fl,xerr=en_err,yerr=fl_err,linestyle='none',linewidth=8,color='black',alpha=0.5)\n",
    "plt.plot(en,mo,color='black',linewidth=4,alpha=0.5)\n",
    "\n",
    "\n",
    "plt.tick_params(axis='both', which='major', labelsize=16)\n",
    "plt.xscale('log')\n",
    "plt.yscale('log')\n",
    "plt.ylim(1.e-3,6.e-1)\n",
    "plt.xlim(15,350)\n",
    "plt.xlabel('$E$, keV',fontsize=16)\n",
    "plt.ylabel('$E^2F_E$, keV/(cm$^2$s)',fontsize=16)\n",
    "plt.savefig(name+'_spectra.pdf',format='pdf',dpi=100)\n",
    "\n",
    "\n"
   ]
  },
  {
   "cell_type": "code",
   "execution_count": 23,
   "metadata": {
    "tags": [
     "outputs"
    ]
   },
   "outputs": [],
   "source": [
    "spectrum_3C279=name+'_spectra.pdf'"
   ]
  },
  {
   "cell_type": "code",
   "execution_count": null,
   "metadata": {},
   "outputs": [],
   "source": []
  }
 ],
 "metadata": {
  "celltoolbar": "Tags",
  "kernelspec": {
   "display_name": "Python 2",
   "language": "python",
   "name": "python2"
  },
  "language_info": {
   "codemirror_mode": {
    "name": "ipython",
    "version": 2
   },
   "file_extension": ".py",
   "mimetype": "text/x-python",
   "name": "python",
   "nbconvert_exporter": "python",
   "pygments_lexer": "ipython2",
   "version": "2.7.15"
  }
 },
 "nbformat": 4,
 "nbformat_minor": 2
}
