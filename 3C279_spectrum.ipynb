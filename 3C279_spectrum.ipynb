{
 "cells": [
  {
   "cell_type": "code",
   "execution_count": 25,
   "metadata": {
    "collapsed": true
   },
   "outputs": [],
   "source": [
    "from oda_api.api import DispatcherAPI\n",
    "from oda_api.plot_tools import OdaImage,OdaLightCurve\n",
    "from oda_api.data_products import BinaryData\n",
    "import os\n",
    "from astropy.io import fits\n",
    "import numpy as np\n",
    "from numpy import sqrt\n",
    "import matplotlib.pyplot as plt\n",
    "%matplotlib inline"
   ]
  },
  {
   "cell_type": "code",
   "execution_count": 20,
   "metadata": {
    "collapsed": true
   },
   "outputs": [],
   "source": [
    "name='3C279'\n",
    "ra=194.046527\n",
    "dec=-5.789314"
   ]
  },
  {
   "cell_type": "code",
   "execution_count": 3,
   "metadata": {
    "collapsed": true
   },
   "outputs": [],
   "source": [
    "#disp=DispatcherAPI(host='https://www.astro.unige.ch/cdci/astrooda/dispatch-data',instrument='mock',protocol='https')\n",
    "cookies=dict(_oauth2_proxy=open('token').read().strip())\n",
    "disp=DispatcherAPI(host='analyse-staging-1.2.reproducible.online/dispatch-data',instrument='mock',cookies=cookies,protocol='https')"
   ]
  },
  {
   "cell_type": "code",
   "execution_count": 5,
   "metadata": {},
   "outputs": [
    {
     "name": "stdout",
     "output_type": "stream",
     "text": [
      "25\n"
     ]
    }
   ],
   "source": [
    "f = open('scws_'+name+'_isgri_10deg.txt', 'r')\n",
    "scws=[]\n",
    "for line in f:\n",
    "    line = line.strip()\n",
    "    columns = line.split()\n",
    "    scws.append(columns[0])\n",
    "f.close()\n",
    "m=int(len(scws)/50.)\n",
    "print(m)\n",
    "scw_lists=[]\n",
    "for i in range(m):\n",
    "    count=0\n",
    "    j=0    \n",
    "    scw_string=''\n",
    "    while(count<50):\n",
    "        scw_string=scw_string+str(scws[50*i+count])+','\n",
    "        count=count+1\n",
    "    scw_lists.append(scw_string[:-1])"
   ]
  },
  {
   "cell_type": "code",
   "execution_count": 10,
   "metadata": {},
   "outputs": [
    {
     "name": "stdout",
     "output_type": "stream",
     "text": [
      "waiting for remote response, please wait run_analysis https://analyse-staging-1.2.reproducible.online/dispatch-data\n",
      "\n",
      "\n",
      "query done succesfully!\n"
     ]
    }
   ],
   "source": [
    "data=disp.get_product(instrument='isgri',\n",
    "                      product='isgri_image',\n",
    "                      scw_list=scw_lists[0],\n",
    "                      E1_keV=20.0,\n",
    "                      E2_keV=40.0,\n",
    "                      osa_version='OSA10.2',\n",
    "                      RA=ra,\n",
    "                      DEC=dec,\n",
    "                      detection_threshold=3.5,\n",
    "                      product_type='Real')"
   ]
  },
  {
   "cell_type": "code",
   "execution_count": 11,
   "metadata": {
    "scrolled": true
   },
   "outputs": [
    {
     "data": {
      "text/html": [
       "&lt;Table length=10&gt;\n",
       "<table id=\"table4652799376\" class=\"table-striped table-bordered table-condensed\">\n",
       "<thead><tr><th>meta_ID</th><th>src_names</th><th>significance</th><th>ra</th><th>dec</th><th>NEW_SOURCE</th><th>ISGRI_FLAG</th><th>FLAG</th><th>ERR_RAD</th></tr></thead>\n",
       "<thead><tr><th></th><th></th><th></th><th>deg</th><th>deg</th><th></th><th></th><th></th><th></th></tr></thead>\n",
       "<thead><tr><th>int64</th><th>unicode15</th><th>float64</th><th>float64</th><th>float64</th><th>int64</th><th>int64</th><th>int64</th><th>object</th></tr></thead>\n",
       "<tr><td>2</td><td>3C 273</td><td>18.170305252075195</td><td>187.2891845703125</td><td>2.057224750518799</td><td>-32768</td><td>2</td><td>0</td><td>0.000280000007479</td></tr>\n",
       "<tr><td>3</td><td>3C 279</td><td>3.879420757293701</td><td>194.04653930664062</td><td>-5.789306163787842</td><td>-32768</td><td>2</td><td>0</td><td>0.000280000007479</td></tr>\n",
       "<tr><td>56</td><td>NGC 4388</td><td>5.55741548538208</td><td>186.44554138183594</td><td>12.662028312683105</td><td>-32768</td><td>2</td><td>0</td><td>0.000280000007479</td></tr>\n",
       "<tr><td>57</td><td>NGC 4593</td><td>14.242892265319824</td><td>189.9182586669922</td><td>-5.369694709777832</td><td>-32768</td><td>2</td><td>0</td><td>0.000280000007479</td></tr>\n",
       "<tr><td>60</td><td>NGC 4941</td><td>3.6251442432403564</td><td>196.05450439453125</td><td>-5.5515828132629395</td><td>-32768</td><td>2</td><td>0</td><td>0.000280000007479</td></tr>\n",
       "<tr><td>64</td><td>NGC 5506</td><td>4.1867218017578125</td><td>213.31195068359375</td><td>-3.2074999809265137</td><td>-32768</td><td>2</td><td>0</td><td>0.000280000007479</td></tr>\n",
       "<tr><td>65</td><td>PKS 1217+02</td><td>3.532562255859375</td><td>185.08299255371094</td><td>2.056999921798706</td><td>-32768</td><td>1</td><td>0</td><td>0.0583333335817</td></tr>\n",
       "<tr><td>74</td><td>NEW_1</td><td>6.105274677276611</td><td>178.76161193847656</td><td>5.505251884460449</td><td>-32767</td><td>0</td><td>0</td><td>None</td></tr>\n",
       "<tr><td>86</td><td>IGR J12131+0700</td><td>6.995861530303955</td><td>183.20753479003906</td><td>6.995861530303955</td><td>-32768</td><td>1</td><td>0</td><td>0.000277777784504</td></tr>\n",
       "<tr><td>122</td><td>NEW_1</td><td>6.095477104187012</td><td>200.42080688476562</td><td>4.888803005218506</td><td>-32767</td><td>0</td><td>0</td><td>None</td></tr>\n",
       "</table>"
      ],
      "text/plain": [
       "<Table length=10>\n",
       "meta_ID    src_names       significance    ...  FLAG      ERR_RAD     \n",
       "                                           ...                        \n",
       " int64     unicode15         float64       ... int64       object     \n",
       "------- --------------- ------------------ ... ----- -----------------\n",
       "      2          3C 273 18.170305252075195 ...     0 0.000280000007479\n",
       "      3          3C 279  3.879420757293701 ...     0 0.000280000007479\n",
       "     56        NGC 4388   5.55741548538208 ...     0 0.000280000007479\n",
       "     57        NGC 4593 14.242892265319824 ...     0 0.000280000007479\n",
       "     60        NGC 4941 3.6251442432403564 ...     0 0.000280000007479\n",
       "     64        NGC 5506 4.1867218017578125 ...     0 0.000280000007479\n",
       "     65     PKS 1217+02  3.532562255859375 ...     0   0.0583333335817\n",
       "     74           NEW_1  6.105274677276611 ...     0              None\n",
       "     86 IGR J12131+0700  6.995861530303955 ...     0 0.000277777784504\n",
       "    122           NEW_1  6.095477104187012 ...     0              None"
      ]
     },
     "execution_count": 11,
     "metadata": {},
     "output_type": "execute_result"
    }
   ],
   "source": [
    "data.dispatcher_catalog_1.table"
   ]
  },
  {
   "cell_type": "code",
   "execution_count": 12,
   "metadata": {
    "collapsed": true
   },
   "outputs": [],
   "source": [
    "torm=[]\n",
    "for ID,n in enumerate(data.dispatcher_catalog_1.table['src_names']):\n",
    "    if(n=='NEW_1'):\n",
    "        torm.append(ID)\n",
    "data.dispatcher_catalog_1.table.remove_rows(torm)"
   ]
  },
  {
   "cell_type": "code",
   "execution_count": 13,
   "metadata": {},
   "outputs": [
    {
     "data": {
      "text/html": [
       "&lt;Table length=8&gt;\n",
       "<table id=\"table4652799376\" class=\"table-striped table-bordered table-condensed\">\n",
       "<thead><tr><th>meta_ID</th><th>src_names</th><th>significance</th><th>ra</th><th>dec</th><th>NEW_SOURCE</th><th>ISGRI_FLAG</th><th>FLAG</th><th>ERR_RAD</th></tr></thead>\n",
       "<thead><tr><th></th><th></th><th></th><th>deg</th><th>deg</th><th></th><th></th><th></th><th></th></tr></thead>\n",
       "<thead><tr><th>int64</th><th>unicode15</th><th>float64</th><th>float64</th><th>float64</th><th>int64</th><th>int64</th><th>int64</th><th>object</th></tr></thead>\n",
       "<tr><td>2</td><td>3C 273</td><td>18.170305252075195</td><td>187.2891845703125</td><td>2.057224750518799</td><td>-32768</td><td>2</td><td>0</td><td>0.000280000007479</td></tr>\n",
       "<tr><td>3</td><td>3C 279</td><td>3.879420757293701</td><td>194.04653930664062</td><td>-5.789306163787842</td><td>-32768</td><td>2</td><td>0</td><td>0.000280000007479</td></tr>\n",
       "<tr><td>56</td><td>NGC 4388</td><td>5.55741548538208</td><td>186.44554138183594</td><td>12.662028312683105</td><td>-32768</td><td>2</td><td>0</td><td>0.000280000007479</td></tr>\n",
       "<tr><td>57</td><td>NGC 4593</td><td>14.242892265319824</td><td>189.9182586669922</td><td>-5.369694709777832</td><td>-32768</td><td>2</td><td>0</td><td>0.000280000007479</td></tr>\n",
       "<tr><td>60</td><td>NGC 4941</td><td>3.6251442432403564</td><td>196.05450439453125</td><td>-5.5515828132629395</td><td>-32768</td><td>2</td><td>0</td><td>0.000280000007479</td></tr>\n",
       "<tr><td>64</td><td>NGC 5506</td><td>4.1867218017578125</td><td>213.31195068359375</td><td>-3.2074999809265137</td><td>-32768</td><td>2</td><td>0</td><td>0.000280000007479</td></tr>\n",
       "<tr><td>65</td><td>PKS 1217+02</td><td>3.532562255859375</td><td>185.08299255371094</td><td>2.056999921798706</td><td>-32768</td><td>1</td><td>0</td><td>0.0583333335817</td></tr>\n",
       "<tr><td>86</td><td>IGR J12131+0700</td><td>6.995861530303955</td><td>183.20753479003906</td><td>6.995861530303955</td><td>-32768</td><td>1</td><td>0</td><td>0.000277777784504</td></tr>\n",
       "</table>"
      ],
      "text/plain": [
       "<Table length=8>\n",
       "meta_ID    src_names       significance    ...  FLAG      ERR_RAD     \n",
       "                                           ...                        \n",
       " int64     unicode15         float64       ... int64       object     \n",
       "------- --------------- ------------------ ... ----- -----------------\n",
       "      2          3C 273 18.170305252075195 ...     0 0.000280000007479\n",
       "      3          3C 279  3.879420757293701 ...     0 0.000280000007479\n",
       "     56        NGC 4388   5.55741548538208 ...     0 0.000280000007479\n",
       "     57        NGC 4593 14.242892265319824 ...     0 0.000280000007479\n",
       "     60        NGC 4941 3.6251442432403564 ...     0 0.000280000007479\n",
       "     64        NGC 5506 4.1867218017578125 ...     0 0.000280000007479\n",
       "     65     PKS 1217+02  3.532562255859375 ...     0   0.0583333335817\n",
       "     86 IGR J12131+0700  6.995861530303955 ...     0 0.000277777784504"
      ]
     },
     "execution_count": 13,
     "metadata": {},
     "output_type": "execute_result"
    }
   ],
   "source": [
    "data.dispatcher_catalog_1.table\n"
   ]
  },
  {
   "cell_type": "code",
   "execution_count": 14,
   "metadata": {
    "collapsed": true
   },
   "outputs": [],
   "source": [
    "api_cat=data.dispatcher_catalog_1.get_api_dictionary()"
   ]
  },
  {
   "cell_type": "code",
   "execution_count": 15,
   "metadata": {
    "scrolled": false
   },
   "outputs": [
    {
     "name": "stdout",
     "output_type": "stream",
     "text": [
      "0\n",
      "waiting for remote response, please wait run_analysis https://analyse-staging-1.2.reproducible.online/dispatch-data\n",
      "the job has been submitted on the remote server\n",
      " - the job is working remotely, please wait status=done - job_id=-2687708779227124931  31  \n",
      "\n",
      "query done succesfully!\n",
      "1\n",
      "waiting for remote response, please wait run_analysis https://analyse-staging-1.2.reproducible.online/dispatch-data\n",
      "the job has been submitted on the remote server\n",
      " | the job is working remotely, please wait status=done - job_id=-157574565320734165  65  \n",
      "\n",
      "query done succesfully!\n",
      "2\n",
      "waiting for remote response, please wait run_analysis https://analyse-staging-1.2.reproducible.online/dispatch-data\n",
      "the job has been submitted on the remote server\n",
      " / the job is working remotely, please wait status=done - job_id=5197826149312294684  84  \n",
      "\n",
      "query done succesfully!\n",
      "3\n",
      "waiting for remote response, please wait run_analysis https://analyse-staging-1.2.reproducible.online/dispatch-data\n",
      "the job has been submitted on the remote server\n",
      " - the job is working remotely, please wait status=done - job_id=-388394647672599687  87  \n",
      "\n",
      "query done succesfully!\n",
      "4\n",
      "waiting for remote response, please wait run_analysis https://analyse-staging-1.2.reproducible.online/dispatch-data\n",
      "the job has been submitted on the remote server\n",
      " | the job is working remotely, please wait status=done - job_id=6023305078814734428  28  \n",
      "\n",
      "query done succesfully!\n",
      "5\n",
      "waiting for remote response, please wait run_analysis https://analyse-staging-1.2.reproducible.online/dispatch-data\n",
      "the job has been submitted on the remote server\n",
      " - the job is working remotely, please wait status=done - job_id=7073445122699886931  31  \n",
      "\n",
      "query done succesfully!\n",
      "6\n",
      "waiting for remote response, please wait run_analysis https://analyse-staging-1.2.reproducible.online/dispatch-data\n",
      "the job has been submitted on the remote server\n",
      " / the job is working remotely, please wait status=done - job_id=-1258200627119582815  15  \n",
      "\n",
      "query done succesfully!\n",
      "7\n",
      "waiting for remote response, please wait run_analysis https://analyse-staging-1.2.reproducible.online/dispatch-data\n",
      "the job has been submitted on the remote server\n",
      " | the job is working remotely, please wait status=done - job_id=3332313396948692001  01  \n",
      "\n",
      "query done succesfully!\n",
      "8\n",
      "waiting for remote response, please wait run_analysis https://analyse-staging-1.2.reproducible.online/dispatch-data\n",
      "the job has been submitted on the remote server\n",
      " - the job is working remotely, please wait status=done - job_id=-7010811262112990400  00  \n",
      "\n",
      "query done succesfully!\n",
      "9\n",
      "waiting for remote response, please wait run_analysis https://analyse-staging-1.2.reproducible.online/dispatch-data\n",
      "the job has been submitted on the remote server\n",
      " \\ the job is working remotely, please wait status=done - job_id=-1697542599409077127  27  \n",
      "\n",
      "query done succesfully!\n",
      "10\n",
      "waiting for remote response, please wait run_analysis https://analyse-staging-1.2.reproducible.online/dispatch-data\n",
      "the job has been submitted on the remote server\n",
      " | the job is working remotely, please wait status=done - job_id=7269104249014374240  40  \n",
      "\n",
      "query done succesfully!\n",
      "11\n",
      "waiting for remote response, please wait run_analysis https://analyse-staging-1.2.reproducible.online/dispatch-data\n",
      "the job has been submitted on the remote server\n",
      " \\ the job is working remotely, please wait status=done - job_id=3434306498312971491  91  \n",
      "\n",
      "query done succesfully!\n",
      "12\n",
      "waiting for remote response, please wait run_analysis https://analyse-staging-1.2.reproducible.online/dispatch-data\n",
      "the job has been submitted on the remote server\n",
      " | the job is working remotely, please wait status=done - job_id=-5294436151448365897  97  \n",
      "\n",
      "query done succesfully!\n",
      "13\n",
      "waiting for remote response, please wait run_analysis https://analyse-staging-1.2.reproducible.online/dispatch-data\n",
      "the job has been submitted on the remote server\n",
      " \\ the job is working remotely, please wait status=done - job_id=-1206166840982731721  21  \n",
      "\n",
      "query done succesfully!\n",
      "14\n",
      "waiting for remote response, please wait run_analysis https://analyse-staging-1.2.reproducible.online/dispatch-data\n",
      "the job has been submitted on the remote server\n",
      " / the job is working remotely, please wait status=done - job_id=3159367039373442923  23  \n",
      "\n",
      "query done succesfully!\n",
      "15\n",
      "waiting for remote response, please wait run_analysis https://analyse-staging-1.2.reproducible.online/dispatch-data\n",
      "the job has been submitted on the remote server\n",
      " | the job is working remotely, please wait status=done - job_id=2932937409373491814  14  \n",
      "\n",
      "query done succesfully!\n",
      "16\n",
      "waiting for remote response, please wait run_analysis https://analyse-staging-1.2.reproducible.online/dispatch-data\n",
      "the job has been submitted on the remote server\n",
      " / the job is working remotely, please wait status=done - job_id=7686268943084836730  30  \n",
      "\n",
      "query done succesfully!\n",
      "17\n",
      "waiting for remote response, please wait run_analysis https://analyse-staging-1.2.reproducible.online/dispatch-data\n",
      "the job has been submitted on the remote server\n",
      " \\ the job is working remotely, please wait status=done - job_id=2463131361543130136  36  \n",
      "\n",
      "query done succesfully!\n",
      "18\n",
      "waiting for remote response, please wait run_analysis https://analyse-staging-1.2.reproducible.online/dispatch-data\n",
      "the job has been submitted on the remote server\n",
      " \\ the job is working remotely, please wait status=done - job_id=-239939918408083125  25  \n",
      "\n",
      "query done succesfully!\n",
      "19\n",
      "waiting for remote response, please wait run_analysis https://analyse-staging-1.2.reproducible.online/dispatch-data\n",
      "the job has been submitted on the remote server\n",
      " \\ the job is working remotely, please wait status=done - job_id=-7537519771821259268  68  \n",
      "\n",
      "query done succesfully!\n",
      "20\n",
      "waiting for remote response, please wait run_analysis https://analyse-staging-1.2.reproducible.online/dispatch-data\n",
      "the job has been submitted on the remote server\n",
      " | the job is working remotely, please wait status=done - job_id=8072211351260914667  67  \n",
      "\n",
      "query done succesfully!\n",
      "21\n",
      "waiting for remote response, please wait run_analysis https://analyse-staging-1.2.reproducible.online/dispatch-data\n",
      "the job has been submitted on the remote server\n",
      " \\ the job is working remotely, please wait status=done - job_id=-4210221062806872671  71  \n",
      "\n",
      "query done succesfully!\n",
      "22\n",
      "waiting for remote response, please wait run_analysis https://analyse-staging-1.2.reproducible.online/dispatch-data\n",
      "the job has been submitted on the remote server\n",
      " \\ the job is working remotely, please wait status=done - job_id=6655678557250462777  77  \n",
      "\n",
      "query done succesfully!\n",
      "23\n",
      "waiting for remote response, please wait run_analysis https://analyse-staging-1.2.reproducible.online/dispatch-data\n",
      "the job has been submitted on the remote server\n",
      " - the job is working remotely, please wait status=done - job_id=-5449643176245880807  07  \n",
      "\n",
      "query done succesfully!\n",
      "24\n",
      "waiting for remote response, please wait run_analysis https://analyse-staging-1.2.reproducible.online/dispatch-data\n",
      "the job has been submitted on the remote server\n",
      " - the job is working remotely, please wait status=done - job_id=-4160264709320102325  25  \n",
      "\n",
      "query done succesfully!\n"
     ]
    }
   ],
   "source": [
    "spectrum_results=[]\n",
    "for i in range(len(scw_lists)):\n",
    "    print i\n",
    "    data=disp.get_product(instrument='isgri',\n",
    "                            product='isgri_spectrum',\n",
    "                            scw_list=scw_lists[i],\n",
    "                            query_type='Real',\n",
    "                            osa_version='OSA10.2',\n",
    "                            RA=ra,\n",
    "                            DEC=dec,\n",
    "                            detection_threshold=5.0,\n",
    "                            radius=15.,\n",
    "                            product_type='Real',\n",
    "                            selected_catalog=api_cat)\n",
    "    spectrum_results.append(data)"
   ]
  },
  {
   "cell_type": "code",
   "execution_count": 16,
   "metadata": {},
   "outputs": [
    {
     "name": "stdout",
     "output_type": "stream",
     "text": [
      "(0, {'src_name': '3C 279', 'product': 'isgri_spectrum'})\n",
      "(1, {'src_name': '3C 279', 'product': 'isgri_arf'})\n",
      "(2, {'src_name': '3C 279', 'product': 'isgri_rmf'})\n",
      "(3, {'src_name': 'NGC 4388', 'product': 'isgri_spectrum'})\n",
      "(4, {'src_name': 'NGC 4388', 'product': 'isgri_arf'})\n",
      "(5, {'src_name': 'NGC 4388', 'product': 'isgri_rmf'})\n",
      "(6, {'src_name': '3C 273', 'product': 'isgri_spectrum'})\n",
      "(7, {'src_name': '3C 273', 'product': 'isgri_arf'})\n",
      "(8, {'src_name': '3C 273', 'product': 'isgri_rmf'})\n",
      "(9, {'src_name': 'NGC 4941', 'product': 'isgri_spectrum'})\n",
      "(10, {'src_name': 'NGC 4941', 'product': 'isgri_arf'})\n",
      "(11, {'src_name': 'NGC 4941', 'product': 'isgri_rmf'})\n",
      "(12, {'src_name': 'Background', 'product': 'isgri_spectrum'})\n",
      "(13, {'src_name': 'Background', 'product': 'isgri_arf'})\n",
      "(14, {'src_name': 'Background', 'product': 'isgri_rmf'})\n",
      "(15, {'src_name': 'PKS 1217+02', 'product': 'isgri_spectrum'})\n",
      "(16, {'src_name': 'PKS 1217+02', 'product': 'isgri_arf'})\n",
      "(17, {'src_name': 'PKS 1217+02', 'product': 'isgri_rmf'})\n",
      "(18, {'src_name': 'NGC 4593', 'product': 'isgri_spectrum'})\n",
      "(19, {'src_name': 'NGC 4593', 'product': 'isgri_arf'})\n",
      "(20, {'src_name': 'NGC 4593', 'product': 'isgri_rmf'})\n",
      "(21, {'src_name': 'IGR J12131+0700', 'product': 'isgri_spectrum'})\n",
      "(22, {'src_name': 'IGR J12131+0700', 'product': 'isgri_arf'})\n",
      "(23, {'src_name': 'IGR J12131+0700', 'product': 'isgri_rmf'})\n"
     ]
    }
   ],
   "source": [
    "for ID,s in enumerate(data._p_list):\n",
    "    print (ID,s.meta_data)"
   ]
  },
  {
   "cell_type": "code",
   "execution_count": 17,
   "metadata": {},
   "outputs": [
    {
     "name": "stderr",
     "output_type": "stream",
     "text": [
      "/anaconda2/lib/python2.7/site-packages/ipykernel_launcher.py:10: RuntimeWarning: invalid value encountered in multiply\n",
      "  # Remove the CWD from sys.path while we load stuff.\n",
      "/anaconda2/lib/python2.7/site-packages/ipykernel_launcher.py:38: RuntimeWarning: invalid value encountered in divide\n",
      "/anaconda2/lib/python2.7/site-packages/ipykernel_launcher.py:39: RuntimeWarning: divide by zero encountered in divide\n"
     ]
    }
   ],
   "source": [
    "import numpy as np\n",
    "from numpy import sqrt\n",
    "\n",
    "d=spectrum_results[0]\n",
    "spec=d._p_list[0].data_unit[1].data\n",
    "arf=d._p_list[1].data_unit[1].data\n",
    "rmf=d._p_list[2].data_unit[2].data\n",
    "ch=spec['CHANNEL']\n",
    "rate=spec['RATE']*0.\n",
    "err=spec['STAT_ERR']*0.\n",
    "syst=spec['SYS_ERR']*0.\n",
    "rate.fill(0)\n",
    "err.fill(0)\n",
    "syst.fill(0)\n",
    "qual=spec['QUALITY']\n",
    "matrix=rmf['MATRIX']*0.\n",
    "specresp=arf['SPECRESP']*0.\n",
    "tot_expos=0.\n",
    "corr_expos=np.zeros(len(rate))\n",
    "for k in range(len(scw_lists)):\n",
    "    d=spectrum_results[k]\n",
    "    spec=d._p_list[0].data_unit[1].data\n",
    "    arf=d._p_list[1].data_unit[1].data\n",
    "    rmf=d._p_list[2].data_unit[2].data\n",
    "    expos=d._p_list[0].data_unit[1].header['EXPOSURE']\n",
    "    tot_expos=tot_expos+expos\n",
    "    for j in range(len(rate)):\n",
    "        if(spec['QUALITY'][j]==0):          \n",
    "            rate[j]=rate[j]+spec['RATE'][j]/(spec['STAT_ERR'][j])**2\n",
    "            err[j]=err[j]+1./(spec['STAT_ERR'][j])**2\n",
    "            syst[j]=syst[j]+(spec['SYS_ERR'][j])**2*expos\n",
    "            corr_expos[j]=corr_expos[j]+expos\n",
    "\n",
    "    matrix=matrix+rmf['MATRIX']*expos\n",
    "    specresp=specresp+arf['SPECRESP']*expos\n",
    "\n",
    "\n",
    "rate=rate/err\n",
    "err=1/sqrt(err)\n",
    "matrix=matrix/tot_expos\n",
    "specresp=specresp/tot_expos\n",
    "syst=sqrt(syst/(corr_expos+1))\n",
    "\n"
   ]
  },
  {
   "cell_type": "code",
   "execution_count": 26,
   "metadata": {},
   "outputs": [
    {
     "name": "stdout",
     "output_type": "stream",
     "text": [
      "3C279_spectrum.fits\n",
      "3C279\n",
      "2399685.95496\n"
     ]
    }
   ],
   "source": [
    "specname=name+'_spectrum.fits'\n",
    "arfname=name+'_arf.fits.gz'\n",
    "rmfname=name+'_rmf.fits.gz'\n",
    "print specname\n",
    "!cp spectrum.fits $specname\n",
    "!cp arf.fits.gz $arfname\n",
    "!cp rmf.fits.gz $rmfname\n",
    "\n",
    "print name\n",
    "hdul = fits.open(name+'_spectrum.fits', mode='update')\n",
    "hdr=hdul[1].header\n",
    "hdr.set('EXPOSURE', tot_expos)\n",
    "spec=hdul[1].data\n",
    "spec['RATE']=rate\n",
    "spec['SYS_ERR']=syst\n",
    "spec['STAT_ERR']=err\n",
    "hdul.flush()\n",
    "hdul.close()\n",
    "hdul = fits.open(name+'_rmf.fits.gz', mode='update')\n",
    "rmf=hdul[2].data\n",
    "rmf['MATRIX']=matrix\n",
    "hdul.flush()\n",
    "hdul.close()\n",
    "hdul = fits.open(name+'_arf.fits.gz', mode='update')\n",
    "arf=hdul[1].data\n",
    "arf['SPECRESP']=specresp\n",
    "hdul.flush()\n",
    "hdul.close()\n",
    "print tot_expos"
   ]
  },
  {
   "cell_type": "code",
   "execution_count": 30,
   "metadata": {
    "scrolled": false
   },
   "outputs": [
    {
     "name": "stdout",
     "output_type": "stream",
     "text": [
      "\n",
      "\t\tXSPEC version: 12.9.0n\n",
      "\tBuild Date/Time: Tue Nov  8 18:03:34 2016\n",
      "\n",
      "XSPEC12>statistic chi\n",
      "Default fit statistic is set to: Chi-Squared\n",
      "   This will apply to all current and newly loaded spectra.\n",
      "XSPEC12>data 3C279_spectrum.fits\n",
      "***Warning: POISSERR keyword is missing or of wrong format, assuming FALSE.\n",
      "\n",
      "1 spectrum  in use\n",
      " \n",
      "Spectral Data File: 3C279_spectrum.fits  Spectrum 1\n",
      "Net count rate (cts/s) for Spectrum:1  nan       +/- nan      \n",
      " Assigned to Data Group 1 and Plot Group 1\n",
      "  Noticed Channels:  1-62\n",
      "  Telescope: INTEGRAL Instrument: IBIS  Channel Type: PI\n",
      "  Exposure Time: 2.4e+06 sec\n",
      " Using fit statistic: chi\n",
      " Using test statistic: chi\n",
      " No response loaded.\n",
      "\n",
      "***Warning!  One or more spectra are missing responses,\n",
      "               and are not suitable for fit.\n",
      "XSPEC12>response 3C279_rmf.fits.gz\n",
      "Warning: RMF CHANTYPE keyword (PHA) is not consistent with that from spectrum (PI)\n",
      "Response successfully loaded.\n",
      "XSPEC12>arf 3C279_arf.fits.gz\n",
      "Arf successfully loaded.\n",
      "XSPEC12>ignore bad\n",
      "\n",
      "ignore:     1 channels ignored from  source number 1\n",
      "XSPEC12>ignore **-20.\n",
      "     8 channels (1-8) ignored in spectrum #     1\n",
      "\n",
      "XSPEC12>ignore 1:300.-**\n",
      "     5 channels (58-62) ignored in spectrum #     1\n",
      "\n",
      "XSPEC12>method leven 10 0.01\n",
      "XSPEC12>abund angr\n",
      " Solar Abundance Vector set to angr:  Anders E. & Grevesse N. Geochimica et Cosmochimica Acta 53, 197 (1989)\n",
      "XSPEC12>xsect bcmc\n",
      " Cross Section Table set to bcmc:  Balucinska-Church and McCammon, 1998\n",
      "XSPEC12>cosmo 70 0 0.73\n",
      "XSPEC12>xset delta 0.01\n",
      "Parameter delta values for fits will now be 0.01 * parValue\n",
      "XSPEC12>systematic 0\n",
      " Model systematic error set to 0\n",
      "XSPEC12>model  cutoffpl\n",
      "\n",
      "Input parameter value, delta, min, bot, top, and max values for ...\n",
      "              1       0.01(      0.01)         -3         -2          9         10\n",
      "         10PhoIndex>         1.43356       0.01         -3         -2          9 \n",
      "             15       0.01(      0.15)       0.01          1        500        500\n",
      "       500:HighECut>         192.65       0.01       0.01          1        500  \n",
      "              1       0.01(      0.01)          0          0      1e+20      1e+24\n",
      " 1e+24ffpl:norm>      0.0104736       0.01          0          0      1e+20      \n",
      "\n",
      "========================================================================\n",
      "Model cutoffpl<1> Source No.: 1   Active/On\n",
      "Model Model Component  Parameter  Unit     Value\n",
      " par  comp\n",
      "   1    1   cutoffpl   PhoIndex            1.43356      +/-  0.0          \n",
      "   2    1   cutoffpl   HighECut   keV      192.650      +/-  0.0          \n",
      "   3    1   cutoffpl   norm                1.04736E-02  +/-  0.0          \n",
      "________________________________________________________________________\n",
      "\n",
      "\n",
      "Fit statistic : Chi-Squared =        8016.15 using 49 PHA bins.\n",
      "\n",
      "Test statistic : Chi-Squared =        8016.15 using 49 PHA bins.\n",
      " Reduced chi-squared =        174.264 for     46 degrees of freedom \n",
      " Null hypothesis probability =   0.000000e+00\n",
      " Current data and model not fit yet.\n",
      "XSPEC12>fit 100\n",
      "                                   Parameters\n",
      "Chi-Squared  |beta|/N    Lvl    1:PhoIndex    2:HighECut        3:norm\n",
      "85.9802      7.83913      -1       1.45053       405.509    0.00122869\n",
      "85.6639      7505.92      -1       1.44133       485.735    0.00114908\n",
      "84.6056      8622.79      -1       1.42815       498.042    0.00110147\n",
      "83.6442      8620.96      -1       1.41519       499.093    0.00105964\n",
      "82.7665      8523.24      -1       1.40277       499.665    0.00102100\n",
      "81.9729      8391.85      -1       1.39087       499.957   0.000985135\n",
      "81.2561      8236.11      -1       1.37946       499.993   0.000951771\n",
      "80.6071      8058.05      -1       1.36852       499.997   0.000920676\n",
      "80.0192      7857.76      -1       1.35803       499.999   0.000891652\n",
      "79.8553      7635.8       -2       1.30729       500.000   0.000719690\n",
      "76.5827      11113.2      -2       1.24966       500.000   0.000615182\n",
      "75.4582      6709.71      -2       1.19947       481.271   0.000532881\n",
      "75.4056      1396.53      -2       1.15528       327.496   0.000467408\n",
      "75.0157      4217.75      -2       1.11679       314.921   0.000412953\n",
      "74.8832      1221.2       -2       1.08070       262.293   0.000370575\n",
      "74.7193      2379.85      -2       1.04855       242.186   0.000334775\n",
      "74.6082      1336.85      -2       1.01886       219.934   0.000305480\n",
      "74.5095      1474.17      -2      0.991813       204.695   0.000280707\n",
      "74.4283      1198.43      -2      0.966927       191.814   0.000259768\n",
      "74.3593      1091.63      -2      0.944037       181.417   0.000241848\n",
      "74.3009      955.823      -2      0.922929       172.718   0.000226417\n",
      "74.2511      844.104      -2      0.903441       165.383   0.000213036\n",
      "74.2085      740.998      -2      0.885422       159.117   0.000201362\n",
      "74.172       648.908      -2      0.868740       153.713   0.000191120\n",
      "74.1407      566.229      -2      0.853281       149.015   0.000182090\n",
      "74.1137      492.147      -2      0.838939       144.900   0.000174091\n",
      "74.0905      425.973      -2      0.825624       141.273   0.000166978\n",
      "74.0704      366.86       -2      0.813252       138.058   0.000160626\n",
      "74.053       314.358      -2      0.801747       135.193   0.000154934\n",
      "74.038       267.806      -2      0.791041       132.630   0.000149818\n",
      "74.025       226.586      -2      0.781073       130.327   0.000145206\n",
      "74.0136      190.208      -2      0.771787       128.251   0.000141035\n",
      "74.0038      158.25       -2      0.763131       126.373   0.000137255\n",
      "========================================\n",
      " Variances and Principal Axes\n",
      "                 1        2        3  \n",
      " 8.3517E-11| -0.0006   0.0000   1.0000  \n",
      " 1.6806E-02|  1.0000  -0.0039   0.0006  \n",
      " 1.4634E+04| -0.0039  -1.0000  -0.0000  \n",
      "----------------------------------------\n",
      "\n",
      "====================================\n",
      "  Covariance Matrix\n",
      "        1           2           3   \n",
      "   2.347e-01   5.647e+01   1.017e-04\n",
      "   5.647e+01   1.463e+04   2.393e-02\n",
      "   1.017e-04   2.393e-02   4.445e-08\n",
      "------------------------------------\n",
      "\n",
      "========================================================================\n",
      "Model cutoffpl<1> Source No.: 1   Active/On\n",
      "Model Model Component  Parameter  Unit     Value\n",
      " par  comp\n",
      "   1    1   cutoffpl   PhoIndex            0.763131     +/-  0.484482     \n",
      "   2    1   cutoffpl   HighECut   keV      126.373      +/-  120.971      \n",
      "   3    1   cutoffpl   norm                1.37255E-04  +/-  2.10827E-04  \n",
      "________________________________________________________________________\n",
      "\n",
      "\n",
      "Fit statistic : Chi-Squared =          74.00 using 49 PHA bins.\n",
      "\n",
      "Test statistic : Chi-Squared =          74.00 using 49 PHA bins.\n",
      " Reduced chi-squared =          1.609 for     46 degrees of freedom \n",
      " Null hypothesis probability =   5.497382e-03\n",
      "XSPEC12>setplot rebin 5 5\n",
      "XSPEC12>plot eeufs\n",
      "XSPEC12>iplot\n",
      "PLT> wdata 3C279_spectrum.txt\n",
      "PLT> XSPEC12>\n",
      " XSPEC: quit\n"
     ]
    }
   ],
   "source": [
    "!./spectrum_fit.sh $name"
   ]
  },
  {
   "cell_type": "code",
   "execution_count": 33,
   "metadata": {},
   "outputs": [
    {
     "name": "stdout",
     "output_type": "stream",
     "text": [
      "waiting for remote response, please wait run_analysis https://analyse-staging-1.2.reproducible.online/dispatch-data\n",
      "the job has been submitted on the remote server\n",
      " \\ the job is working remotely, please wait status=done - job_id=5049070276391507368  68  \n",
      "\n",
      "query done succesfully!\n"
     ]
    }
   ],
   "source": [
    "data=disp.get_product(instrument='isgri',\n",
    "                        product='isgri_spectrum',\n",
    "                        T1='2015-06-15T15:56:45',\n",
    "                        T2='2015-06-16T06:13:10',\n",
    "                        query_type='Real',\n",
    "                        osa_version='OSA10.2',\n",
    "                        RA=ra,\n",
    "                        DEC=dec,\n",
    "                        detection_threshold=5.0,\n",
    "                        radius=15.,\n",
    "                        product_type='Real',\n",
    "                        selected_catalog=api_cat)"
   ]
  },
  {
   "cell_type": "code",
   "execution_count": null,
   "metadata": {
    "collapsed": true
   },
   "outputs": [],
   "source": [
    "data._p_list[0].write_fits_file(name+'_flare_spectrum.fits')\n",
    "data._p_list[1].write_fits_file(name+'_flare_arf.fits.gz')\n",
    "data._p_list[2].write_fits_file(name+'_flare_rmf.fits.gz')"
   ]
  },
  {
   "cell_type": "code",
   "execution_count": null,
   "metadata": {
    "collapsed": true
   },
   "outputs": [],
   "source": [
    "name1=name+'_flare'\n",
    "!./spectrum_fit.sh $name1"
   ]
  },
  {
   "cell_type": "code",
   "execution_count": 32,
   "metadata": {},
   "outputs": [
    {
     "data": {
      "image/png": "[encoded data removed]",
      "text/plain": [
       "<Figure size 720x504 with 1 Axes>"
      ]
     },
     "metadata": {},
     "output_type": "display_data"
    }
   ],
   "source": [
    "plt.figure(figsize=(10,7))\n",
    "\n",
    "spectrum=np.genfromtxt(name+'_spectrum.txt',skip_header=3)\n",
    "en=spectrum[:,0]\n",
    "en_err=spectrum[:,1]\n",
    "fl=spectrum[:,2]\n",
    "fl_err=spectrum[:,3]\n",
    "mo=spectrum[:,4]\n",
    "plt.errorbar(en,fl,xerr=en_err,yerr=fl_err,linestyle='none',linewidth=8,color='black',alpha=1)\n",
    "plt.plot(en,mo,color='black',linewidth=4)\n",
    "\n",
    "spectrum=np.genfromtxt(name+'_flare_spectrum.txt',skip_header=3)\n",
    "en=spectrum[:,0]\n",
    "en_err=spectrum[:,1]\n",
    "fl=spectrum[:,2]\n",
    "fl_err=spectrum[:,3]\n",
    "mo=spectrum[:,4]\n",
    "plt.errorbar(en,fl,xerr=en_err,yerr=fl_err,linestyle='none',linewidth=8,color='black',alpha=0.5)\n",
    "plt.plot(en,mo,color='black',linewidth=4,alpha=0.5)\n",
    "\n",
    "\n",
    "plt.tick_params(axis='both', which='major', labelsize=16)\n",
    "plt.xscale('log')\n",
    "plt.yscale('log')\n",
    "plt.ylim(1.e-3,6.e-1)\n",
    "plt.xlim(15,350)\n",
    "plt.xlabel('$E$, keV',fontsize=16)\n",
    "plt.ylabel('$E^2F_E$, keV/(cm$^2$s)',fontsize=16)\n",
    "plt.savefig(name+'_spectra.pdf',format='pdf',dpi=100)\n",
    "\n",
    "\n"
   ]
  },
  {
   "cell_type": "code",
   "execution_count": null,
   "metadata": {
    "collapsed": true
   },
   "outputs": [],
   "source": []
  }
 ],
 "metadata": {
  "kernelspec": {
   "display_name": "Python 2",
   "language": "python",
   "name": "python2"
  },
  "language_info": {
   "codemirror_mode": {
    "name": "ipython",
    "version": 2
   },
   "file_extension": ".py",
   "mimetype": "text/x-python",
   "name": "python",
   "nbconvert_exporter": "python",
   "pygments_lexer": "ipython2",
   "version": "2.7.14"
  }
 },
 "nbformat": 4,
 "nbformat_minor": 2
}
