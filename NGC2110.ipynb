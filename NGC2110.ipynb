{
 "cells": [
  {
   "cell_type": "code",
   "execution_count": 1,
   "metadata": {
    "collapsed": true
   },
   "outputs": [],
   "source": [
    "from oda_api.api import DispatcherAPI\n",
    "from oda_api.plot_tools import OdaImage,OdaLightCurve\n",
    "from oda_api.data_products import BinaryData\n",
    "import os\n",
    "#%matplotlib notebook"
   ]
  },
  {
   "cell_type": "code",
   "execution_count": 5,
   "metadata": {
    "collapsed": true
   },
   "outputs": [],
   "source": [
    "ra=88.047400\n",
    "dec=-7.456247"
   ]
  },
  {
   "cell_type": "code",
   "execution_count": 18,
   "metadata": {},
   "outputs": [],
   "source": [
    "#disp=DispatcherAPI(host='https://www.astro.unige.ch/cdci/astrooda/dispatch-data',instrument='mock',protocol='https')\n",
    "cookies=dict(_oauth2_proxy=open('token').read().strip())\n",
    "disp=DispatcherAPI(host='analyse-staging-1.2.reproducible.online/dispatch-data',instrument='mock',cookies=cookies,protocol='https')"
   ]
  },
  {
   "cell_type": "code",
   "execution_count": 12,
   "metadata": {},
   "outputs": [
    {
     "name": "stdout",
     "output_type": "stream",
     "text": [
      "24\n"
     ]
    }
   ],
   "source": [
    "f = open('scws_NGC2110_isgri_10deg.txt', 'r')\n",
    "scws=[]\n",
    "for line in f:\n",
    "    line = line.strip()\n",
    "    columns = line.split()\n",
    "    scws.append(columns[0])\n",
    "f.close()\n",
    "m=int(len(scws)/50.)\n",
    "print(m)\n",
    "scw_lists=[]\n",
    "for i in range(m):\n",
    "    count=0\n",
    "    j=0    \n",
    "    scw_string=''\n",
    "    while(count<50):\n",
    "        scw_string=scw_string+str(scws[50*i+count])+','\n",
    "        count=count+1\n",
    "    scw_lists.append(scw_string[:-1])"
   ]
  },
  {
   "cell_type": "code",
   "execution_count": 19,
   "metadata": {},
   "outputs": [
    {
     "name": "stdout",
     "output_type": "stream",
     "text": [
      "waiting for remote response, please wait run_analysis https://analyse-staging-1.2.reproducible.online/dispatch-data\n",
      "the job has been submitted on the remote server\n",
      " \\ the job is working remotely, please wait status=done - job_id=-4780162178265446803  803 \n",
      "\n",
      "query done succesfully!\n"
     ]
    }
   ],
   "source": [
    "data=disp.get_product(instrument='isgri',\n",
    "                      product='isgri_image',\n",
    "                      scw_list=scw_lists[0],\n",
    "                      E1_keV=20.0,\n",
    "                      E2_keV=40.0,\n",
    "                      osa_version='OSA10.2',\n",
    "                      RA=ra,\n",
    "                      DEC=dec,\n",
    "                      detection_threshold=5.0,\n",
    "                      product_type='Real')"
   ]
  },
  {
   "cell_type": "code",
   "execution_count": 20,
   "metadata": {},
   "outputs": [
    {
     "data": {
      "text/html": [
       "&lt;Table length=3&gt;\n",
       "<table id=\"table4407244496\" class=\"table-striped table-bordered table-condensed\">\n",
       "<thead><tr><th>meta_ID</th><th>src_names</th><th>significance</th><th>ra</th><th>dec</th><th>NEW_SOURCE</th><th>ISGRI_FLAG</th><th>FLAG</th><th>ERR_RAD</th></tr></thead>\n",
       "<thead><tr><th></th><th></th><th></th><th>deg</th><th>deg</th><th></th><th></th><th></th><th></th></tr></thead>\n",
       "<thead><tr><th>int64</th><th>unicode10</th><th>float64</th><th>float64</th><th>float64</th><th>int64</th><th>int64</th><th>int64</th><th>float64</th></tr></thead>\n",
       "<tr><td>3</td><td>Ark 120</td><td>9.783936500549316</td><td>79.03569030761719</td><td>-0.1271200329065323</td><td>-32768</td><td>2</td><td>0</td><td>0.0002800000074785203</td></tr>\n",
       "<tr><td>4</td><td>H 0614+091</td><td>20.382593154907227</td><td>94.28584289550781</td><td>9.143746376037598</td><td>-32768</td><td>2</td><td>0</td><td>0.0002800000074785203</td></tr>\n",
       "<tr><td>14</td><td>NGC 2110</td><td>16.466463088989258</td><td>88.06703186035156</td><td>-7.4683003425598145</td><td>-32768</td><td>2</td><td>0</td><td>0.0002800000074785203</td></tr>\n",
       "</table>"
      ],
      "text/plain": [
       "<Table length=3>\n",
       "meta_ID src_names     significance    ... ISGRI_FLAG  FLAG        ERR_RAD       \n",
       "                                      ...                                       \n",
       " int64  unicode10       float64       ...   int64    int64        float64       \n",
       "------- ---------- ------------------ ... ---------- ----- ---------------------\n",
       "      3    Ark 120  9.783936500549316 ...          2     0 0.0002800000074785203\n",
       "      4 H 0614+091 20.382593154907227 ...          2     0 0.0002800000074785203\n",
       "     14   NGC 2110 16.466463088989258 ...          2     0 0.0002800000074785203"
      ]
     },
     "execution_count": 20,
     "metadata": {},
     "output_type": "execute_result"
    }
   ],
   "source": [
    "data.dispatcher_catalog_1.table\n",
    "api_cat=data.dispatcher_catalog_1.get_api_dictionary()"
   ]
  },
  {
   "cell_type": "code",
   "execution_count": null,
   "metadata": {
    "collapsed": true
   },
   "outputs": [],
   "source": [
    "spectrum_results=[]\n",
    "for i in range(len(scw_lists)):\n",
    "#for i in range(3):\n",
    "    printi\n",
    "    print scw_lists[i]\n",
    "    data=disp.get_product(instrument='isgri',\n",
    "                            product='isgri_spectrum',\n",
    "                            scw_list=scw_lists[i],\n",
    "                            query_type='Real',\n",
    "                            osa_version='OSA10.2',\n",
    "                            RA=ra,\n",
    "                            DEC=dec,\n",
    "                            detection_threshold=5.0,\n",
    "                            radius=15.,\n",
    "                            product_type='Real',\n",
    "                            selected_catalog=api_cat)\n",
    "    spectrum_results.append(data)"
   ]
  }
 ],
 "metadata": {
  "kernelspec": {
   "display_name": "Python 2",
   "language": "python",
   "name": "python2"
  },
  "language_info": {
   "codemirror_mode": {
    "name": "ipython",
    "version": 2
   },
   "file_extension": ".py",
   "mimetype": "text/x-python",
   "name": "python",
   "nbconvert_exporter": "python",
   "pygments_lexer": "ipython2",
   "version": "2.7.14"
  }
 },
 "nbformat": 4,
 "nbformat_minor": 2
}
