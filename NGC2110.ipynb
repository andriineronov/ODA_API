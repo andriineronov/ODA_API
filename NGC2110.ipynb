{
 "cells": [
  {
   "cell_type": "code",
   "execution_count": 1,
   "metadata": {
    "collapsed": true
   },
   "outputs": [],
   "source": [
    "from oda_api.api import DispatcherAPI\n",
    "from oda_api.plot_tools import OdaImage,OdaLightCurve\n",
    "from oda_api.data_products import BinaryData\n",
    "import os\n",
    "#%matplotlib notebook"
   ]
  },
  {
   "cell_type": "code",
   "execution_count": 5,
   "metadata": {
    "collapsed": true
   },
   "outputs": [],
   "source": [
    "ra=88.047400\n",
    "dec=-7.456247"
   ]
  },
  {
   "cell_type": "code",
   "execution_count": 18,
   "metadata": {},
   "outputs": [],
   "source": [
    "#disp=DispatcherAPI(host='https://www.astro.unige.ch/cdci/astrooda/dispatch-data',instrument='mock',protocol='https')\n",
    "cookies=dict(_oauth2_proxy=open('token').read().strip())\n",
    "disp=DispatcherAPI(host='analyse-staging-1.2.reproducible.online/dispatch-data',instrument='mock',cookies=cookies,protocol='https')"
   ]
  },
  {
   "cell_type": "code",
   "execution_count": 12,
   "metadata": {},
   "outputs": [
    {
     "name": "stdout",
     "output_type": "stream",
     "text": [
      "24\n"
     ]
    }
   ],
   "source": [
    "f = open('scws_NGC2110_isgri_10deg.txt', 'r')\n",
    "scws=[]\n",
    "for line in f:\n",
    "    line = line.strip()\n",
    "    columns = line.split()\n",
    "    scws.append(columns[0])\n",
    "f.close()\n",
    "m=int(len(scws)/50.)\n",
    "print(m)\n",
    "scw_lists=[]\n",
    "for i in range(m):\n",
    "    count=0\n",
    "    j=0    \n",
    "    scw_string=''\n",
    "    while(count<50):\n",
    "        scw_string=scw_string+str(scws[50*i+count])+','\n",
    "        count=count+1\n",
    "    scw_lists.append(scw_string[:-1])"
   ]
  },
  {
   "cell_type": "code",
   "execution_count": 19,
   "metadata": {},
   "outputs": [
    {
     "name": "stdout",
     "output_type": "stream",
     "text": [
      "waiting for remote response, please wait run_analysis https://analyse-staging-1.2.reproducible.online/dispatch-data\n",
      "the job has been submitted on the remote server\n",
      " \\ the job is working remotely, please wait status=done - job_id=-4780162178265446803  803 \n",
      "\n",
      "query done succesfully!\n"
     ]
    }
   ],
   "source": [
    "data=disp.get_product(instrument='isgri',\n",
    "                      product='isgri_image',\n",
    "                      scw_list=scw_lists[0],\n",
    "                      E1_keV=20.0,\n",
    "                      E2_keV=40.0,\n",
    "                      osa_version='OSA10.2',\n",
    "                      RA=ra,\n",
    "                      DEC=dec,\n",
    "                      detection_threshold=5.0,\n",
    "                      product_type='Real')"
   ]
  },
  {
   "cell_type": "code",
   "execution_count": 21,
   "metadata": {},
   "outputs": [],
   "source": [
    "data.dispatcher_catalog_1.table\n",
    "api_cat=data.dispatcher_catalog_1.get_api_dictionary()"
   ]
  },
  {
   "cell_type": "code",
   "execution_count": null,
   "metadata": {
    "collapsed": true
   },
   "outputs": [],
   "source": [
    "spectrum_results=[]\n",
    "for i in range(len(scw_lists)):\n",
    "    print i\n",
    "    print scw_lists[i]\n",
    "    data=disp.get_product(instrument='isgri',\n",
    "                            product='isgri_spectrum',\n",
    "                            scw_list=scw_lists[i],\n",
    "                            query_type='Real',\n",
    "                            osa_version='OSA10.2',\n",
    "                            RA=ra,\n",
    "                            DEC=dec,\n",
    "                            detection_threshold=5.0,\n",
    "                            radius=15.,\n",
    "                            product_type='Real',\n",
    "                            selected_catalog=api_cat)\n",
    "    spectrum_results.append(data)"
   ]
  }
 ],
 "metadata": {
  "kernelspec": {
   "display_name": "Python 2",
   "language": "python",
   "name": "python2"
  },
  "language_info": {
   "codemirror_mode": {
    "name": "ipython",
    "version": 2
   },
   "file_extension": ".py",
   "mimetype": "text/x-python",
   "name": "python",
   "nbconvert_exporter": "python",
   "pygments_lexer": "ipython2",
   "version": "2.7.14"
  }
 },
 "nbformat": 4,
 "nbformat_minor": 2
}
